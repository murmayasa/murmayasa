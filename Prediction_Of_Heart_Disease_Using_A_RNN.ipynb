{
  "metadata": {
    "kernelspec": {
      "language": "python",
      "display_name": "Python 3",
      "name": "python3"
    },
    "language_info": {
      "name": "python",
      "version": "3.10.10",
      "mimetype": "text/x-python",
      "codemirror_mode": {
        "name": "ipython",
        "version": 3
      },
      "pygments_lexer": "ipython3",
      "nbconvert_exporter": "python",
      "file_extension": ".py"
    },
    "colab": {
      "provenance": [],
      "include_colab_link": true
    }
  },
  "nbformat_minor": 0,
  "nbformat": 4,
  "cells": [
    {
      "cell_type": "markdown",
      "metadata": {
        "id": "view-in-github",
        "colab_type": "text"
      },
      "source": [
        "<a href=\"https://colab.research.google.com/github/murmayasa/murmayasa/blob/main/Prediction_Of_Heart_Disease_Using_A_RNN.ipynb\" target=\"_parent\"><img src=\"https://colab.research.google.com/assets/colab-badge.svg\" alt=\"Open In Colab\"/></a>"
      ]
    },
    {
      "cell_type": "markdown",
      "source": [
        "# Import Library"
      ],
      "metadata": {
        "id": "YT2UlhMtQoB3"
      }
    },
    {
      "cell_type": "code",
      "source": [
        "import numpy as np\n",
        "import pandas as pd\n",
        "import os\n",
        "import tensorflow as tf\n",
        "from sklearn.model_selection import train_test_split\n",
        "from sklearn.preprocessing import StandardScaler\n",
        "from tensorflow.keras.models import Sequential\n",
        "from tensorflow.keras.layers import Dense, LSTM\n",
        "from sklearn.preprocessing import LabelEncoder\n",
        "from sklearn.metrics import accuracy_score\n",
        "from tensorflow import keras\n",
        "from sklearn.metrics import mean_squared_error\n",
        "keras.optimizers.Adam"
      ],
      "metadata": {
        "execution": {
          "iopub.status.busy": "2023-06-13T00:37:15.251554Z",
          "iopub.execute_input": "2023-06-13T00:37:15.251867Z",
          "iopub.status.idle": "2023-06-13T00:37:24.660599Z",
          "shell.execute_reply.started": "2023-06-13T00:37:15.251846Z",
          "shell.execute_reply": "2023-06-13T00:37:24.659414Z"
        },
        "trusted": true,
        "id": "KfH83e17QoB7",
        "colab": {
          "base_uri": "https://localhost:8080/"
        },
        "outputId": "ac69374f-df0c-4dee-c8ef-06beec160716"
      },
      "execution_count": 2,
      "outputs": [
        {
          "output_type": "execute_result",
          "data": {
            "text/plain": [
              "keras.optimizers.adam.Adam"
            ]
          },
          "metadata": {},
          "execution_count": 2
        }
      ]
    },
    {
      "cell_type": "markdown",
      "source": [
        "# Mengakses Dataset"
      ],
      "metadata": {
        "id": "HzoCh9thbPyu"
      }
    },
    {
      "cell_type": "code",
      "source": [
        "from google.colab import drive\n",
        "drive.mount('/content/drive/')\n",
        "csv_path = '/content/drive/MyDrive/Colab Notebooks/Heart_Disease_Prediction.csv'"
      ],
      "metadata": {
        "colab": {
          "base_uri": "https://localhost:8080/"
        },
        "id": "KihXAmByVg4o",
        "outputId": "75a93f52-d688-4e54-d8d1-f7e7c4be4ba1"
      },
      "execution_count": 3,
      "outputs": [
        {
          "output_type": "stream",
          "name": "stdout",
          "text": [
            "Drive already mounted at /content/drive/; to attempt to forcibly remount, call drive.mount(\"/content/drive/\", force_remount=True).\n"
          ]
        }
      ]
    },
    {
      "cell_type": "markdown",
      "source": [
        "# Membaca Dataset"
      ],
      "metadata": {
        "id": "JUTFLLcmQoB8"
      }
    },
    {
      "cell_type": "code",
      "source": [
        "data = pd.read_csv(csv_path)"
      ],
      "metadata": {
        "id": "y1uJyhhRQoB8"
      },
      "execution_count": 4,
      "outputs": []
    },
    {
      "cell_type": "markdown",
      "source": [
        "# Memilih Kolom"
      ],
      "metadata": {
        "id": "MXQtDHOTcpyz"
      }
    },
    {
      "cell_type": "code",
      "source": [
        "columns = ['Age', 'Sex', 'Chest pain type', 'BP', 'Cholesterol', 'FBS over 120', 'EKG results', 'Max HR',\n",
        "           'Exercise angina', 'ST depression', 'Slope of ST', 'Number of vessels fluro', 'Thallium', 'Heart Disease']\n",
        "data = data[columns]"
      ],
      "metadata": {
        "id": "YZxVPGZ_cr_L"
      },
      "execution_count": 5,
      "outputs": []
    },
    {
      "cell_type": "markdown",
      "source": [
        "# Memisahkan fitur dan label"
      ],
      "metadata": {
        "id": "NgRhPFRpQoB9"
      }
    },
    {
      "cell_type": "code",
      "source": [
        "X = data.drop('Heart Disease', axis=1)\n",
        "y = data['Heart Disease']"
      ],
      "metadata": {
        "id": "XZoUUDv_QoB9"
      },
      "execution_count": 6,
      "outputs": []
    },
    {
      "cell_type": "markdown",
      "source": [
        "# Normalisasi fitur menggunakan StandardScaler"
      ],
      "metadata": {
        "id": "lR7e7TFJQoB-"
      }
    },
    {
      "cell_type": "code",
      "source": [
        "scaler = StandardScaler()\n",
        "X_scaled = scaler.fit_transform(X)"
      ],
      "metadata": {
        "id": "8HK0Knc7QoB-"
      },
      "execution_count": 7,
      "outputs": []
    },
    {
      "cell_type": "markdown",
      "source": [
        "# Membagi dataset menjadi data latih dan data uji"
      ],
      "metadata": {
        "id": "HZcH6y30QoB_"
      }
    },
    {
      "cell_type": "code",
      "source": [
        "X_train, X_test, y_train, y_test = train_test_split(X_scaled, y, test_size=0.2, random_state=42)"
      ],
      "metadata": {
        "id": "qD-DLR4nQoCA"
      },
      "execution_count": 54,
      "outputs": []
    },
    {
      "cell_type": "markdown",
      "source": [
        "# Mengubah data menjadi bentuk yang sesuai untuk model RNN"
      ],
      "metadata": {
        "id": "IWmhbrCOQoCA"
      }
    },
    {
      "cell_type": "code",
      "source": [
        "X_train_rnn = X_train.reshape(X_train.shape[0], 1, X_train.shape[1])\n",
        "X_test_rnn = X_test.reshape(X_test.shape[0], 1, X_test.shape[1])\n",
        "\n",
        "label_encoder = LabelEncoder()\n",
        "\n",
        "# Mengubah nilai dalam kolom target menjadi representasi numerik\n",
        "y_train = label_encoder.fit_transform(y_train)\n",
        "y_test = label_encoder.transform(y_test)"
      ],
      "metadata": {
        "id": "4dQdEGuiQoCA"
      },
      "execution_count": 55,
      "outputs": []
    },
    {
      "cell_type": "markdown",
      "source": [
        "# Pembuatan Model"
      ],
      "metadata": {
        "id": "Bwdr0jlsQoCE"
      }
    },
    {
      "cell_type": "code",
      "source": [
        "model = Sequential()\n",
        "model.add(LSTM(64, input_shape=(1, X_train.shape[1]), activation='relu'))\n",
        "model.add(Dense(1, activation='sigmoid'))"
      ],
      "metadata": {
        "id": "z1ZPgcmeQoCE"
      },
      "execution_count": 56,
      "outputs": []
    },
    {
      "cell_type": "markdown",
      "source": [
        "# Fungsi untuk menghitung MAPE"
      ],
      "metadata": {
        "id": "uS0vW8WUlqCx"
      }
    },
    {
      "cell_type": "code",
      "source": [
        "def calculate_mape(y_true, y_pred):\n",
        "    return np.mean(np.abs((y_true - y_pred) / y_true)) * 100"
      ],
      "metadata": {
        "id": "lu1HfzKklpTa"
      },
      "execution_count": null,
      "outputs": []
    },
    {
      "cell_type": "markdown",
      "source": [
        "# Compile Model"
      ],
      "metadata": {
        "id": "VVw2kKfPQoCE"
      }
    },
    {
      "cell_type": "code",
      "source": [
        "learning_rate = 0.0001\n",
        "model.compile(loss='binary_crossentropy',\n",
        "        optimizer=tf.optimizers.Adam(learning_rate=learning_rate),\n",
        "        metrics=['accuracy'])\n",
        "model.summary()"
      ],
      "metadata": {
        "id": "y2PrUs_1QoCF",
        "colab": {
          "base_uri": "https://localhost:8080/"
        },
        "outputId": "3d27149c-dd69-457c-d808-c2cb4b0518e7"
      },
      "execution_count": 57,
      "outputs": [
        {
          "output_type": "stream",
          "name": "stdout",
          "text": [
            "Model: \"sequential_6\"\n",
            "_________________________________________________________________\n",
            " Layer (type)                Output Shape              Param #   \n",
            "=================================================================\n",
            " lstm_6 (LSTM)               (None, 64)                19968     \n",
            "                                                                 \n",
            " dense_6 (Dense)             (None, 1)                 65        \n",
            "                                                                 \n",
            "=================================================================\n",
            "Total params: 20,033\n",
            "Trainable params: 20,033\n",
            "Non-trainable params: 0\n",
            "_________________________________________________________________\n"
          ]
        }
      ]
    },
    {
      "cell_type": "markdown",
      "source": [
        "# Melatih model"
      ],
      "metadata": {
        "id": "3ko1VDp-QoCG"
      }
    },
    {
      "cell_type": "code",
      "source": [
        "model.fit(X_train_rnn, y_train, epochs=50, batch_size=32, validation_data=(X_test_rnn, y_test))\n",
        "print(\"*** Hasil Training ***\")\n",
        "loss, accuracy = model.evaluate(X_test_rnn, y_test)\n",
        "print(\"Loss: \", loss)\n",
        "print(\"Accuracy: \", accuracy)"
      ],
      "metadata": {
        "id": "a7qo_2ECQoCG",
        "colab": {
          "base_uri": "https://localhost:8080/"
        },
        "outputId": "27ab8060-547d-4456-aa16-9b797f0fccdc"
      },
      "execution_count": 58,
      "outputs": [
        {
          "output_type": "stream",
          "name": "stdout",
          "text": [
            "Epoch 1/50\n",
            "7/7 [==============================] - 3s 59ms/step - loss: 0.6970 - accuracy: 0.4769 - val_loss: 0.6858 - val_accuracy: 0.5370\n",
            "Epoch 2/50\n",
            "7/7 [==============================] - 0s 9ms/step - loss: 0.6948 - accuracy: 0.5093 - val_loss: 0.6841 - val_accuracy: 0.5556\n",
            "Epoch 3/50\n",
            "7/7 [==============================] - 0s 12ms/step - loss: 0.6926 - accuracy: 0.5324 - val_loss: 0.6824 - val_accuracy: 0.5926\n",
            "Epoch 4/50\n",
            "7/7 [==============================] - 0s 9ms/step - loss: 0.6905 - accuracy: 0.5463 - val_loss: 0.6807 - val_accuracy: 0.5741\n",
            "Epoch 5/50\n",
            "7/7 [==============================] - 0s 11ms/step - loss: 0.6884 - accuracy: 0.5972 - val_loss: 0.6789 - val_accuracy: 0.6111\n",
            "Epoch 6/50\n",
            "7/7 [==============================] - 0s 13ms/step - loss: 0.6863 - accuracy: 0.6111 - val_loss: 0.6772 - val_accuracy: 0.6296\n",
            "Epoch 7/50\n",
            "7/7 [==============================] - 0s 9ms/step - loss: 0.6842 - accuracy: 0.6389 - val_loss: 0.6754 - val_accuracy: 0.6481\n",
            "Epoch 8/50\n",
            "7/7 [==============================] - 0s 9ms/step - loss: 0.6823 - accuracy: 0.6667 - val_loss: 0.6736 - val_accuracy: 0.6852\n",
            "Epoch 9/50\n",
            "7/7 [==============================] - 0s 9ms/step - loss: 0.6802 - accuracy: 0.6852 - val_loss: 0.6719 - val_accuracy: 0.7222\n",
            "Epoch 10/50\n",
            "7/7 [==============================] - 0s 11ms/step - loss: 0.6780 - accuracy: 0.6852 - val_loss: 0.6701 - val_accuracy: 0.7407\n",
            "Epoch 11/50\n",
            "7/7 [==============================] - 0s 11ms/step - loss: 0.6761 - accuracy: 0.7222 - val_loss: 0.6683 - val_accuracy: 0.7593\n",
            "Epoch 12/50\n",
            "7/7 [==============================] - 0s 12ms/step - loss: 0.6740 - accuracy: 0.7361 - val_loss: 0.6666 - val_accuracy: 0.7593\n",
            "Epoch 13/50\n",
            "7/7 [==============================] - 0s 9ms/step - loss: 0.6720 - accuracy: 0.7407 - val_loss: 0.6648 - val_accuracy: 0.7963\n",
            "Epoch 14/50\n",
            "7/7 [==============================] - 0s 11ms/step - loss: 0.6699 - accuracy: 0.7546 - val_loss: 0.6631 - val_accuracy: 0.7963\n",
            "Epoch 15/50\n",
            "7/7 [==============================] - 0s 12ms/step - loss: 0.6678 - accuracy: 0.7593 - val_loss: 0.6614 - val_accuracy: 0.7963\n",
            "Epoch 16/50\n",
            "7/7 [==============================] - 0s 12ms/step - loss: 0.6658 - accuracy: 0.7824 - val_loss: 0.6596 - val_accuracy: 0.8148\n",
            "Epoch 17/50\n",
            "7/7 [==============================] - 0s 9ms/step - loss: 0.6637 - accuracy: 0.7870 - val_loss: 0.6578 - val_accuracy: 0.8333\n",
            "Epoch 18/50\n",
            "7/7 [==============================] - 0s 10ms/step - loss: 0.6617 - accuracy: 0.7917 - val_loss: 0.6560 - val_accuracy: 0.8519\n",
            "Epoch 19/50\n",
            "7/7 [==============================] - 0s 9ms/step - loss: 0.6595 - accuracy: 0.7963 - val_loss: 0.6542 - val_accuracy: 0.8704\n",
            "Epoch 20/50\n",
            "7/7 [==============================] - 0s 13ms/step - loss: 0.6574 - accuracy: 0.7963 - val_loss: 0.6524 - val_accuracy: 0.8704\n",
            "Epoch 21/50\n",
            "7/7 [==============================] - 0s 10ms/step - loss: 0.6554 - accuracy: 0.8056 - val_loss: 0.6506 - val_accuracy: 0.8704\n",
            "Epoch 22/50\n",
            "7/7 [==============================] - 0s 11ms/step - loss: 0.6532 - accuracy: 0.8056 - val_loss: 0.6488 - val_accuracy: 0.8704\n",
            "Epoch 23/50\n",
            "7/7 [==============================] - 0s 9ms/step - loss: 0.6511 - accuracy: 0.8056 - val_loss: 0.6469 - val_accuracy: 0.8704\n",
            "Epoch 24/50\n",
            "7/7 [==============================] - 0s 13ms/step - loss: 0.6491 - accuracy: 0.8056 - val_loss: 0.6450 - val_accuracy: 0.8704\n",
            "Epoch 25/50\n",
            "7/7 [==============================] - 0s 11ms/step - loss: 0.6467 - accuracy: 0.8056 - val_loss: 0.6432 - val_accuracy: 0.8704\n",
            "Epoch 26/50\n",
            "7/7 [==============================] - 0s 11ms/step - loss: 0.6447 - accuracy: 0.8009 - val_loss: 0.6413 - val_accuracy: 0.8704\n",
            "Epoch 27/50\n",
            "7/7 [==============================] - 0s 9ms/step - loss: 0.6424 - accuracy: 0.8056 - val_loss: 0.6394 - val_accuracy: 0.8704\n",
            "Epoch 28/50\n",
            "7/7 [==============================] - 0s 9ms/step - loss: 0.6403 - accuracy: 0.8056 - val_loss: 0.6375 - val_accuracy: 0.8704\n",
            "Epoch 29/50\n",
            "7/7 [==============================] - 0s 12ms/step - loss: 0.6380 - accuracy: 0.8148 - val_loss: 0.6355 - val_accuracy: 0.8704\n",
            "Epoch 30/50\n",
            "7/7 [==============================] - 0s 11ms/step - loss: 0.6358 - accuracy: 0.8102 - val_loss: 0.6335 - val_accuracy: 0.8889\n",
            "Epoch 31/50\n",
            "7/7 [==============================] - 0s 10ms/step - loss: 0.6336 - accuracy: 0.8102 - val_loss: 0.6316 - val_accuracy: 0.8889\n",
            "Epoch 32/50\n",
            "7/7 [==============================] - 0s 12ms/step - loss: 0.6313 - accuracy: 0.8148 - val_loss: 0.6296 - val_accuracy: 0.8889\n",
            "Epoch 33/50\n",
            "7/7 [==============================] - 0s 12ms/step - loss: 0.6290 - accuracy: 0.8194 - val_loss: 0.6276 - val_accuracy: 0.9074\n",
            "Epoch 34/50\n",
            "7/7 [==============================] - 0s 10ms/step - loss: 0.6267 - accuracy: 0.8241 - val_loss: 0.6256 - val_accuracy: 0.9074\n",
            "Epoch 35/50\n",
            "7/7 [==============================] - 0s 12ms/step - loss: 0.6244 - accuracy: 0.8241 - val_loss: 0.6235 - val_accuracy: 0.9074\n",
            "Epoch 36/50\n",
            "7/7 [==============================] - 0s 9ms/step - loss: 0.6221 - accuracy: 0.8241 - val_loss: 0.6214 - val_accuracy: 0.9074\n",
            "Epoch 37/50\n",
            "7/7 [==============================] - 0s 10ms/step - loss: 0.6197 - accuracy: 0.8241 - val_loss: 0.6193 - val_accuracy: 0.9074\n",
            "Epoch 38/50\n",
            "7/7 [==============================] - 0s 14ms/step - loss: 0.6174 - accuracy: 0.8287 - val_loss: 0.6172 - val_accuracy: 0.9074\n",
            "Epoch 39/50\n",
            "7/7 [==============================] - 0s 9ms/step - loss: 0.6150 - accuracy: 0.8241 - val_loss: 0.6150 - val_accuracy: 0.9074\n",
            "Epoch 40/50\n",
            "7/7 [==============================] - 0s 11ms/step - loss: 0.6126 - accuracy: 0.8241 - val_loss: 0.6129 - val_accuracy: 0.9074\n",
            "Epoch 41/50\n",
            "7/7 [==============================] - 0s 9ms/step - loss: 0.6102 - accuracy: 0.8333 - val_loss: 0.6107 - val_accuracy: 0.9074\n",
            "Epoch 42/50\n",
            "7/7 [==============================] - 0s 12ms/step - loss: 0.6077 - accuracy: 0.8333 - val_loss: 0.6085 - val_accuracy: 0.9074\n",
            "Epoch 43/50\n",
            "7/7 [==============================] - 0s 9ms/step - loss: 0.6052 - accuracy: 0.8333 - val_loss: 0.6063 - val_accuracy: 0.9074\n",
            "Epoch 44/50\n",
            "7/7 [==============================] - 0s 9ms/step - loss: 0.6028 - accuracy: 0.8333 - val_loss: 0.6040 - val_accuracy: 0.9074\n",
            "Epoch 45/50\n",
            "7/7 [==============================] - 0s 12ms/step - loss: 0.6003 - accuracy: 0.8287 - val_loss: 0.6018 - val_accuracy: 0.9074\n",
            "Epoch 46/50\n",
            "7/7 [==============================] - 0s 11ms/step - loss: 0.5978 - accuracy: 0.8333 - val_loss: 0.5995 - val_accuracy: 0.9259\n",
            "Epoch 47/50\n",
            "7/7 [==============================] - 0s 13ms/step - loss: 0.5952 - accuracy: 0.8333 - val_loss: 0.5972 - val_accuracy: 0.9259\n",
            "Epoch 48/50\n",
            "7/7 [==============================] - 0s 9ms/step - loss: 0.5928 - accuracy: 0.8333 - val_loss: 0.5949 - val_accuracy: 0.9259\n",
            "Epoch 49/50\n",
            "7/7 [==============================] - 0s 12ms/step - loss: 0.5902 - accuracy: 0.8333 - val_loss: 0.5925 - val_accuracy: 0.9259\n",
            "Epoch 50/50\n",
            "7/7 [==============================] - 0s 12ms/step - loss: 0.5876 - accuracy: 0.8333 - val_loss: 0.5901 - val_accuracy: 0.9259\n",
            "*** Hasil Training ***\n",
            "2/2 [==============================] - 0s 8ms/step - loss: 0.5901 - accuracy: 0.9259\n",
            "Loss:  0.5901351571083069\n",
            "Accuracy:  0.9259259104728699\n"
          ]
        }
      ]
    },
    {
      "cell_type": "markdown",
      "source": [
        "# Evaluasi model"
      ],
      "metadata": {
        "id": "5AW_jBZRQoCH"
      }
    },
    {
      "cell_type": "code",
      "source": [
        "loss, accuracy = model.evaluate(X_test_rnn, y_test)\n",
        "print(\"Loss: \", loss)\n",
        "print(\"Accuracy: \", accuracy)"
      ],
      "metadata": {
        "id": "JRM_9QgdQoCH",
        "colab": {
          "base_uri": "https://localhost:8080/"
        },
        "outputId": "37a8a375-bfed-4bb2-ffcd-c278d52b3db2"
      },
      "execution_count": 68,
      "outputs": [
        {
          "output_type": "stream",
          "name": "stdout",
          "text": [
            "2/2 [==============================] - 0s 14ms/step - loss: 0.5901 - accuracy: 0.9259\n",
            "Loss:  0.5901351571083069\n",
            "Accuracy:  0.9259259104728699\n"
          ]
        }
      ]
    },
    {
      "cell_type": "markdown",
      "source": [
        "# Tahap Denormalisasi"
      ],
      "metadata": {
        "id": "GmfTyp_sl4Cq"
      }
    },
    {
      "cell_type": "code",
      "source": [
        "y_pred_classes = label_encoder.inverse_transform(np.argmax(y_pred, axis=1))\n",
        "y_pred_denormalized = scaler.inverse_transform(y_pred.reshape(-1, 1) * np.sqrt(scaler.var_) + scaler.mean_)\n",
        "y_test_denormalized = scaler.inverse_transform(y_test.reshape(-1, 1) * np.sqrt(scaler.var_) + scaler.mean_)"
      ],
      "metadata": {
        "id": "lvppNx12lORZ"
      },
      "execution_count": 66,
      "outputs": []
    },
    {
      "cell_type": "markdown",
      "source": [
        "# Menghitung RMSE & MAPE"
      ],
      "metadata": {
        "id": "I8SFN8iOl-zX"
      }
    },
    {
      "cell_type": "code",
      "source": [
        "rmse = np.sqrt(np.mean((y_test_denormalized - y_pred_denormalized)**2))\n",
        "mape = np.mean(np.abs((y_test_denormalized - y_pred_denormalized) / y_test_denormalized)) * 100\n",
        "\n",
        "print(\"RMSE:\", rmse)\n",
        "print(\"MAPE:\", mape)"
      ],
      "metadata": {
        "colab": {
          "base_uri": "https://localhost:8080/"
        },
        "id": "CkMH25aplQyB",
        "outputId": "9a6f837e-87b6-492b-aa84-815b1b68e4ac"
      },
      "execution_count": 67,
      "outputs": [
        {
          "output_type": "stream",
          "name": "stdout",
          "text": [
            "RMSE: 338.35814202626216\n",
            "MAPE: 12.784256138954293\n"
          ]
        }
      ]
    }
  ]
}