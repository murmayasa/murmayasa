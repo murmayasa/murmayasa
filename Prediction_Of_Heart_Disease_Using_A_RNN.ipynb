{
  "metadata": {
    "kernelspec": {
      "language": "python",
      "display_name": "Python 3",
      "name": "python3"
    },
    "language_info": {
      "name": "python",
      "version": "3.10.10",
      "mimetype": "text/x-python",
      "codemirror_mode": {
        "name": "ipython",
        "version": 3
      },
      "pygments_lexer": "ipython3",
      "nbconvert_exporter": "python",
      "file_extension": ".py"
    },
    "colab": {
      "provenance": [],
      "include_colab_link": true
    }
  },
  "nbformat_minor": 0,
  "nbformat": 4,
  "cells": [
    {
      "cell_type": "markdown",
      "metadata": {
        "id": "view-in-github",
        "colab_type": "text"
      },
      "source": [
        "<a href=\"https://colab.research.google.com/github/murmayasa/murmayasa/blob/main/Prediction_Of_Heart_Disease_Using_A_RNN.ipynb\" target=\"_parent\"><img src=\"https://colab.research.google.com/assets/colab-badge.svg\" alt=\"Open In Colab\"/></a>"
      ]
    },
    {
      "cell_type": "markdown",
      "source": [
        "# Import Library"
      ],
      "metadata": {
        "id": "YT2UlhMtQoB3"
      }
    },
    {
      "cell_type": "code",
      "source": [
        "import numpy as np\n",
        "import pandas as pd\n",
        "import os\n",
        "from sklearn.model_selection import train_test_split\n",
        "from sklearn.preprocessing import StandardScaler\n",
        "from tensorflow.keras.models import Sequential\n",
        "from tensorflow.keras.layers import Dense, LSTM\n",
        "from tensorflow.keras.callbacks import EarlyStopping\n",
        "from sklearn.preprocessing import LabelEncoder"
      ],
      "metadata": {
        "execution": {
          "iopub.status.busy": "2023-06-13T00:37:15.251554Z",
          "iopub.execute_input": "2023-06-13T00:37:15.251867Z",
          "iopub.status.idle": "2023-06-13T00:37:24.660599Z",
          "shell.execute_reply.started": "2023-06-13T00:37:15.251846Z",
          "shell.execute_reply": "2023-06-13T00:37:24.659414Z"
        },
        "trusted": true,
        "id": "KfH83e17QoB7"
      },
      "execution_count": null,
      "outputs": []
    },
    {
      "cell_type": "markdown",
      "source": [
        "# Mengakses Dataset"
      ],
      "metadata": {
        "id": "HzoCh9thbPyu"
      }
    },
    {
      "cell_type": "code",
      "source": [
        "from google.colab import drive\n",
        "drive.mount('/content/drive/')\n",
        "csv_path = '/content/drive/MyDrive/Colab Notebooks/Heart_Disease_Prediction.csv'"
      ],
      "metadata": {
        "colab": {
          "base_uri": "https://localhost:8080/"
        },
        "id": "KihXAmByVg4o",
        "outputId": "53129a7d-8c47-49dd-f7ff-6f99a87983c8"
      },
      "execution_count": null,
      "outputs": [
        {
          "output_type": "stream",
          "name": "stdout",
          "text": [
            "Drive already mounted at /content/drive/; to attempt to forcibly remount, call drive.mount(\"/content/drive/\", force_remount=True).\n"
          ]
        }
      ]
    },
    {
      "cell_type": "markdown",
      "source": [
        "# Membaca dataset"
      ],
      "metadata": {
        "id": "JUTFLLcmQoB8"
      }
    },
    {
      "cell_type": "code",
      "source": [
        "data = pd.read_csv(csv_path)"
      ],
      "metadata": {
        "id": "y1uJyhhRQoB8"
      },
      "execution_count": null,
      "outputs": []
    },
    {
      "cell_type": "markdown",
      "source": [
        "# Memilih Kolom"
      ],
      "metadata": {
        "id": "MXQtDHOTcpyz"
      }
    },
    {
      "cell_type": "code",
      "source": [
        "columns = ['Age', 'Sex', 'Chest pain type', 'BP', 'Cholesterol', 'FBS over 120', 'EKG results', 'Max HR',\n",
        "           'Exercise angina', 'ST depression', 'Slope of ST', 'Number of vessels fluro', 'Thallium', 'Heart Disease']\n",
        "data = data[columns]"
      ],
      "metadata": {
        "id": "YZxVPGZ_cr_L"
      },
      "execution_count": null,
      "outputs": []
    },
    {
      "cell_type": "markdown",
      "source": [
        "# Memisahkan fitur dan label"
      ],
      "metadata": {
        "id": "NgRhPFRpQoB9"
      }
    },
    {
      "cell_type": "code",
      "source": [
        "X = data.drop('Heart Disease', axis=1)\n",
        "y = data['Heart Disease']"
      ],
      "metadata": {
        "id": "XZoUUDv_QoB9"
      },
      "execution_count": null,
      "outputs": []
    },
    {
      "cell_type": "markdown",
      "source": [
        "# Normalisasi fitur menggunakan StandardScaler"
      ],
      "metadata": {
        "id": "lR7e7TFJQoB-"
      }
    },
    {
      "cell_type": "code",
      "source": [
        "scaler = StandardScaler()\n",
        "X_scaled = scaler.fit_transform(X)"
      ],
      "metadata": {
        "id": "8HK0Knc7QoB-"
      },
      "execution_count": null,
      "outputs": []
    },
    {
      "cell_type": "markdown",
      "source": [
        "# Membagi dataset menjadi data latih dan data uji"
      ],
      "metadata": {
        "id": "HZcH6y30QoB_"
      }
    },
    {
      "cell_type": "code",
      "source": [
        "X_train, X_test, y_train, y_test = train_test_split(X_scaled, y, test_size=0.2, random_state=42)"
      ],
      "metadata": {
        "id": "qD-DLR4nQoCA"
      },
      "execution_count": null,
      "outputs": []
    },
    {
      "cell_type": "markdown",
      "source": [
        "# Mengubah data menjadi bentuk yang sesuai untuk model RNN"
      ],
      "metadata": {
        "id": "IWmhbrCOQoCA"
      }
    },
    {
      "cell_type": "code",
      "source": [
        "X_train_rnn = X_train.reshape(X_train.shape[0], 1, X_train.shape[1])\n",
        "X_test_rnn = X_test.reshape(X_test.shape[0], 1, X_test.shape[1])\n",
        "\n",
        "label_encoder = LabelEncoder()\n",
        "\n",
        "# Ubah nilai dalam kolom target menjadi representasi numerik\n",
        "y_train = label_encoder.fit_transform(y_train)\n",
        "y_test = label_encoder.transform(y_test)\n"
      ],
      "metadata": {
        "id": "4dQdEGuiQoCA"
      },
      "execution_count": null,
      "outputs": []
    },
    {
      "cell_type": "markdown",
      "source": [
        "# Pembuatan Model"
      ],
      "metadata": {
        "id": "Bwdr0jlsQoCE"
      }
    },
    {
      "cell_type": "code",
      "source": [
        "model = Sequential()\n",
        "model.add(LSTM(64, input_shape=(1, X_train.shape[1]), activation='relu'))\n",
        "model.add(Dense(1, activation='sigmoid'))"
      ],
      "metadata": {
        "id": "z1ZPgcmeQoCE"
      },
      "execution_count": null,
      "outputs": []
    },
    {
      "cell_type": "markdown",
      "source": [
        "# Compile Model"
      ],
      "metadata": {
        "id": "VVw2kKfPQoCE"
      }
    },
    {
      "cell_type": "code",
      "source": [
        "model.compile(loss='binary_crossentropy', optimizer='adam', metrics=['accuracy'])"
      ],
      "metadata": {
        "id": "y2PrUs_1QoCF"
      },
      "execution_count": null,
      "outputs": []
    },
    {
      "cell_type": "markdown",
      "source": [
        "# Early stopping"
      ],
      "metadata": {
        "id": "b9paN3jTQoCF"
      }
    },
    {
      "cell_type": "code",
      "source": [
        "early_stopping = EarlyStopping(patience=5, restore_best_weights=True)"
      ],
      "metadata": {
        "id": "XCA84dExQoCF"
      },
      "execution_count": null,
      "outputs": []
    },
    {
      "cell_type": "markdown",
      "source": [
        "# Melatih model"
      ],
      "metadata": {
        "id": "3ko1VDp-QoCG"
      }
    },
    {
      "cell_type": "code",
      "source": [
        "model.fit(X_train_rnn, y_train, epochs=50, batch_size=32, validation_data=(X_test_rnn, y_test), callbacks=[early_stopping])"
      ],
      "metadata": {
        "id": "a7qo_2ECQoCG",
        "colab": {
          "base_uri": "https://localhost:8080/"
        },
        "outputId": "3f9aeccf-63dd-4583-9191-98dabf7621fb"
      },
      "execution_count": null,
      "outputs": [
        {
          "output_type": "stream",
          "name": "stdout",
          "text": [
            "Epoch 1/50\n",
            "7/7 [==============================] - 2s 99ms/step - loss: 0.6866 - accuracy: 0.5370 - val_loss: 0.6788 - val_accuracy: 0.5926\n",
            "Epoch 2/50\n",
            "7/7 [==============================] - 0s 8ms/step - loss: 0.6650 - accuracy: 0.6759 - val_loss: 0.6610 - val_accuracy: 0.6667\n",
            "Epoch 3/50\n",
            "7/7 [==============================] - 0s 12ms/step - loss: 0.6448 - accuracy: 0.7407 - val_loss: 0.6431 - val_accuracy: 0.7222\n",
            "Epoch 4/50\n",
            "7/7 [==============================] - 0s 8ms/step - loss: 0.6250 - accuracy: 0.7870 - val_loss: 0.6244 - val_accuracy: 0.7593\n",
            "Epoch 5/50\n",
            "7/7 [==============================] - 0s 8ms/step - loss: 0.6030 - accuracy: 0.7870 - val_loss: 0.6056 - val_accuracy: 0.7963\n",
            "Epoch 6/50\n",
            "7/7 [==============================] - 0s 8ms/step - loss: 0.5810 - accuracy: 0.8056 - val_loss: 0.5854 - val_accuracy: 0.8148\n",
            "Epoch 7/50\n",
            "7/7 [==============================] - 0s 9ms/step - loss: 0.5582 - accuracy: 0.8102 - val_loss: 0.5644 - val_accuracy: 0.8519\n",
            "Epoch 8/50\n",
            "7/7 [==============================] - 0s 8ms/step - loss: 0.5359 - accuracy: 0.8148 - val_loss: 0.5421 - val_accuracy: 0.8519\n",
            "Epoch 9/50\n",
            "7/7 [==============================] - 0s 8ms/step - loss: 0.5129 - accuracy: 0.8287 - val_loss: 0.5199 - val_accuracy: 0.8519\n",
            "Epoch 10/50\n",
            "7/7 [==============================] - 0s 8ms/step - loss: 0.4913 - accuracy: 0.8333 - val_loss: 0.4980 - val_accuracy: 0.8519\n",
            "Epoch 11/50\n",
            "7/7 [==============================] - 0s 8ms/step - loss: 0.4713 - accuracy: 0.8380 - val_loss: 0.4764 - val_accuracy: 0.8519\n",
            "Epoch 12/50\n",
            "7/7 [==============================] - 0s 8ms/step - loss: 0.4529 - accuracy: 0.8426 - val_loss: 0.4559 - val_accuracy: 0.8519\n",
            "Epoch 13/50\n",
            "7/7 [==============================] - 0s 8ms/step - loss: 0.4358 - accuracy: 0.8426 - val_loss: 0.4376 - val_accuracy: 0.8704\n",
            "Epoch 14/50\n",
            "7/7 [==============================] - 0s 8ms/step - loss: 0.4216 - accuracy: 0.8426 - val_loss: 0.4206 - val_accuracy: 0.8889\n",
            "Epoch 15/50\n",
            "7/7 [==============================] - 0s 11ms/step - loss: 0.4086 - accuracy: 0.8472 - val_loss: 0.4055 - val_accuracy: 0.9074\n",
            "Epoch 16/50\n",
            "7/7 [==============================] - 0s 8ms/step - loss: 0.3975 - accuracy: 0.8565 - val_loss: 0.3924 - val_accuracy: 0.9074\n",
            "Epoch 17/50\n",
            "7/7 [==============================] - 0s 10ms/step - loss: 0.3878 - accuracy: 0.8611 - val_loss: 0.3814 - val_accuracy: 0.9074\n",
            "Epoch 18/50\n",
            "7/7 [==============================] - 0s 9ms/step - loss: 0.3792 - accuracy: 0.8565 - val_loss: 0.3717 - val_accuracy: 0.9074\n",
            "Epoch 19/50\n",
            "7/7 [==============================] - 0s 11ms/step - loss: 0.3720 - accuracy: 0.8565 - val_loss: 0.3630 - val_accuracy: 0.9074\n",
            "Epoch 20/50\n",
            "7/7 [==============================] - 0s 11ms/step - loss: 0.3654 - accuracy: 0.8565 - val_loss: 0.3563 - val_accuracy: 0.9074\n",
            "Epoch 21/50\n",
            "7/7 [==============================] - 0s 11ms/step - loss: 0.3598 - accuracy: 0.8519 - val_loss: 0.3501 - val_accuracy: 0.9074\n",
            "Epoch 22/50\n",
            "7/7 [==============================] - 0s 9ms/step - loss: 0.3546 - accuracy: 0.8519 - val_loss: 0.3448 - val_accuracy: 0.9074\n",
            "Epoch 23/50\n",
            "7/7 [==============================] - 0s 11ms/step - loss: 0.3502 - accuracy: 0.8519 - val_loss: 0.3403 - val_accuracy: 0.9074\n",
            "Epoch 24/50\n",
            "7/7 [==============================] - 0s 9ms/step - loss: 0.3460 - accuracy: 0.8519 - val_loss: 0.3368 - val_accuracy: 0.9074\n",
            "Epoch 25/50\n",
            "7/7 [==============================] - 0s 9ms/step - loss: 0.3420 - accuracy: 0.8519 - val_loss: 0.3340 - val_accuracy: 0.9074\n",
            "Epoch 26/50\n",
            "7/7 [==============================] - 0s 11ms/step - loss: 0.3387 - accuracy: 0.8519 - val_loss: 0.3306 - val_accuracy: 0.9074\n",
            "Epoch 27/50\n",
            "7/7 [==============================] - 0s 8ms/step - loss: 0.3355 - accuracy: 0.8565 - val_loss: 0.3283 - val_accuracy: 0.9074\n",
            "Epoch 28/50\n",
            "7/7 [==============================] - 0s 11ms/step - loss: 0.3321 - accuracy: 0.8565 - val_loss: 0.3271 - val_accuracy: 0.8889\n",
            "Epoch 29/50\n",
            "7/7 [==============================] - 0s 11ms/step - loss: 0.3291 - accuracy: 0.8565 - val_loss: 0.3245 - val_accuracy: 0.8889\n",
            "Epoch 30/50\n",
            "7/7 [==============================] - 0s 9ms/step - loss: 0.3266 - accuracy: 0.8611 - val_loss: 0.3238 - val_accuracy: 0.8889\n",
            "Epoch 31/50\n",
            "7/7 [==============================] - 0s 10ms/step - loss: 0.3237 - accuracy: 0.8611 - val_loss: 0.3221 - val_accuracy: 0.8889\n",
            "Epoch 32/50\n",
            "7/7 [==============================] - 0s 11ms/step - loss: 0.3213 - accuracy: 0.8611 - val_loss: 0.3211 - val_accuracy: 0.8889\n",
            "Epoch 33/50\n",
            "7/7 [==============================] - 0s 8ms/step - loss: 0.3187 - accuracy: 0.8611 - val_loss: 0.3203 - val_accuracy: 0.8889\n",
            "Epoch 34/50\n",
            "7/7 [==============================] - 0s 11ms/step - loss: 0.3164 - accuracy: 0.8611 - val_loss: 0.3192 - val_accuracy: 0.8889\n",
            "Epoch 35/50\n",
            "7/7 [==============================] - 0s 8ms/step - loss: 0.3139 - accuracy: 0.8611 - val_loss: 0.3186 - val_accuracy: 0.8889\n",
            "Epoch 36/50\n",
            "7/7 [==============================] - 0s 8ms/step - loss: 0.3118 - accuracy: 0.8611 - val_loss: 0.3179 - val_accuracy: 0.8889\n",
            "Epoch 37/50\n",
            "7/7 [==============================] - 0s 9ms/step - loss: 0.3093 - accuracy: 0.8611 - val_loss: 0.3173 - val_accuracy: 0.8889\n",
            "Epoch 38/50\n",
            "7/7 [==============================] - 0s 11ms/step - loss: 0.3073 - accuracy: 0.8611 - val_loss: 0.3169 - val_accuracy: 0.8704\n",
            "Epoch 39/50\n",
            "7/7 [==============================] - 0s 8ms/step - loss: 0.3054 - accuracy: 0.8611 - val_loss: 0.3166 - val_accuracy: 0.8889\n",
            "Epoch 40/50\n",
            "7/7 [==============================] - 0s 11ms/step - loss: 0.3031 - accuracy: 0.8611 - val_loss: 0.3157 - val_accuracy: 0.8704\n",
            "Epoch 41/50\n",
            "7/7 [==============================] - 0s 8ms/step - loss: 0.3010 - accuracy: 0.8611 - val_loss: 0.3151 - val_accuracy: 0.8704\n",
            "Epoch 42/50\n",
            "7/7 [==============================] - 0s 11ms/step - loss: 0.2991 - accuracy: 0.8611 - val_loss: 0.3151 - val_accuracy: 0.8704\n",
            "Epoch 43/50\n",
            "7/7 [==============================] - 0s 8ms/step - loss: 0.2972 - accuracy: 0.8611 - val_loss: 0.3141 - val_accuracy: 0.8704\n",
            "Epoch 44/50\n",
            "7/7 [==============================] - 0s 9ms/step - loss: 0.2950 - accuracy: 0.8611 - val_loss: 0.3139 - val_accuracy: 0.8704\n",
            "Epoch 45/50\n",
            "7/7 [==============================] - 0s 11ms/step - loss: 0.2934 - accuracy: 0.8611 - val_loss: 0.3148 - val_accuracy: 0.8704\n",
            "Epoch 46/50\n",
            "7/7 [==============================] - 0s 9ms/step - loss: 0.2912 - accuracy: 0.8657 - val_loss: 0.3143 - val_accuracy: 0.8704\n",
            "Epoch 47/50\n",
            "7/7 [==============================] - 0s 11ms/step - loss: 0.2893 - accuracy: 0.8657 - val_loss: 0.3147 - val_accuracy: 0.8704\n",
            "Epoch 48/50\n",
            "7/7 [==============================] - 0s 10ms/step - loss: 0.2875 - accuracy: 0.8657 - val_loss: 0.3151 - val_accuracy: 0.8889\n",
            "Epoch 49/50\n",
            "7/7 [==============================] - 0s 9ms/step - loss: 0.2856 - accuracy: 0.8657 - val_loss: 0.3151 - val_accuracy: 0.8889\n"
          ]
        },
        {
          "output_type": "execute_result",
          "data": {
            "text/plain": [
              "<keras.callbacks.History at 0x7f244e353b80>"
            ]
          },
          "metadata": {},
          "execution_count": 28
        }
      ]
    },
    {
      "cell_type": "markdown",
      "source": [
        "# Evaluasi model"
      ],
      "metadata": {
        "id": "5AW_jBZRQoCH"
      }
    },
    {
      "cell_type": "code",
      "source": [
        "_, accuracy = model.evaluate(X_test_rnn, y_test)\n",
        "print('Accuracy: %.2f%%' % (accuracy * 100))"
      ],
      "metadata": {
        "id": "JRM_9QgdQoCH",
        "colab": {
          "base_uri": "https://localhost:8080/"
        },
        "outputId": "a549a864-4af5-46ee-a952-dfb06181c100"
      },
      "execution_count": null,
      "outputs": [
        {
          "output_type": "stream",
          "name": "stdout",
          "text": [
            "2/2 [==============================] - 0s 8ms/step - loss: 0.3139 - accuracy: 0.8704\n",
            "Accuracy: 87.04%\n"
          ]
        }
      ]
    }
  ]
}