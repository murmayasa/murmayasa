{
  "metadata": {
    "kernelspec": {
      "display_name": "Python 3",
      "name": "python3"
    },
    "language_info": {
      "name": "python",
      "version": "3.10.10",
      "mimetype": "text/x-python",
      "codemirror_mode": {
        "name": "ipython",
        "version": 3
      },
      "pygments_lexer": "ipython3",
      "nbconvert_exporter": "python",
      "file_extension": ".py"
    },
    "colab": {
      "provenance": [],
      "gpuType": "T4",
      "include_colab_link": true
    },
    "accelerator": "GPU"
  },
  "nbformat_minor": 0,
  "nbformat": 4,
  "cells": [
    {
      "cell_type": "markdown",
      "metadata": {
        "id": "view-in-github",
        "colab_type": "text"
      },
      "source": [
        "<a href=\"https://colab.research.google.com/github/murmayasa/murmayasa/blob/main/Prediction_Of_Heart_Disease_Using_A_RNN.ipynb\" target=\"_parent\"><img src=\"https://colab.research.google.com/assets/colab-badge.svg\" alt=\"Open In Colab\"/></a>"
      ]
    },
    {
      "cell_type": "markdown",
      "source": [
        "# Import Library"
      ],
      "metadata": {
        "id": "YT2UlhMtQoB3"
      }
    },
    {
      "cell_type": "code",
      "source": [
        "import numpy as np\n",
        "import pandas as pd\n",
        "import os\n",
        "import tensorflow as tf\n",
        "from sklearn.model_selection import train_test_split\n",
        "from sklearn.preprocessing import StandardScaler\n",
        "from tensorflow.keras.models import Sequential\n",
        "from tensorflow.keras.layers import Dense, LSTM\n",
        "from sklearn.preprocessing import LabelEncoder\n",
        "from sklearn.metrics import accuracy_score\n",
        "from tensorflow import keras\n",
        "from sklearn.metrics import mean_squared_error\n",
        "keras.optimizers.Adam"
      ],
      "metadata": {
        "execution": {
          "iopub.status.busy": "2023-06-13T00:37:15.251554Z",
          "iopub.execute_input": "2023-06-13T00:37:15.251867Z",
          "iopub.status.idle": "2023-06-13T00:37:24.660599Z",
          "shell.execute_reply.started": "2023-06-13T00:37:15.251846Z",
          "shell.execute_reply": "2023-06-13T00:37:24.659414Z"
        },
        "trusted": true,
        "id": "KfH83e17QoB7",
        "colab": {
          "base_uri": "https://localhost:8080/"
        },
        "outputId": "fd2c14d0-3b82-43b7-d410-237388e5f0ed"
      },
      "execution_count": 21,
      "outputs": [
        {
          "output_type": "execute_result",
          "data": {
            "text/plain": [
              "keras.optimizers.adam.Adam"
            ]
          },
          "metadata": {},
          "execution_count": 21
        }
      ]
    },
    {
      "cell_type": "markdown",
      "source": [
        "# Mengakses Dataset"
      ],
      "metadata": {
        "id": "HzoCh9thbPyu"
      }
    },
    {
      "cell_type": "code",
      "source": [
        "from google.colab import drive\n",
        "drive.mount('/content/drive/')\n",
        "csv_path = '/content/drive/MyDrive/Colab Notebooks/Heart_Disease_Prediction.csv'"
      ],
      "metadata": {
        "colab": {
          "base_uri": "https://localhost:8080/"
        },
        "id": "KihXAmByVg4o",
        "outputId": "780141b7-43bb-40e0-d92f-3390d27885cc"
      },
      "execution_count": 22,
      "outputs": [
        {
          "output_type": "stream",
          "name": "stdout",
          "text": [
            "Drive already mounted at /content/drive/; to attempt to forcibly remount, call drive.mount(\"/content/drive/\", force_remount=True).\n"
          ]
        }
      ]
    },
    {
      "cell_type": "markdown",
      "source": [
        "# Membaca Dataset"
      ],
      "metadata": {
        "id": "JUTFLLcmQoB8"
      }
    },
    {
      "cell_type": "code",
      "source": [
        "data = pd.read_csv(csv_path)"
      ],
      "metadata": {
        "id": "y1uJyhhRQoB8"
      },
      "execution_count": 23,
      "outputs": []
    },
    {
      "cell_type": "markdown",
      "source": [
        "# Memilih Kolom"
      ],
      "metadata": {
        "id": "MXQtDHOTcpyz"
      }
    },
    {
      "cell_type": "code",
      "source": [
        "columns = ['Age', 'Sex', 'Chest pain type', 'BP', 'Cholesterol', 'FBS over 120', 'EKG results', 'Max HR',\n",
        "           'Exercise angina', 'ST depression', 'Slope of ST', 'Number of vessels fluro', 'Thallium', 'Heart Disease']\n",
        "data = data[columns]"
      ],
      "metadata": {
        "id": "YZxVPGZ_cr_L"
      },
      "execution_count": 24,
      "outputs": []
    },
    {
      "cell_type": "markdown",
      "source": [
        "# Memisahkan fitur dan label"
      ],
      "metadata": {
        "id": "NgRhPFRpQoB9"
      }
    },
    {
      "cell_type": "code",
      "source": [
        "X = data.drop('Heart Disease', axis=1)\n",
        "y = data['Heart Disease']"
      ],
      "metadata": {
        "id": "XZoUUDv_QoB9"
      },
      "execution_count": 25,
      "outputs": []
    },
    {
      "cell_type": "markdown",
      "source": [
        "# Normalisasi fitur menggunakan StandardScaler"
      ],
      "metadata": {
        "id": "lR7e7TFJQoB-"
      }
    },
    {
      "cell_type": "code",
      "source": [
        "scaler = StandardScaler()\n",
        "X_scaled = scaler.fit_transform(X)"
      ],
      "metadata": {
        "id": "8HK0Knc7QoB-"
      },
      "execution_count": 26,
      "outputs": []
    },
    {
      "cell_type": "markdown",
      "source": [
        "# Membagi dataset menjadi data latih dan data uji"
      ],
      "metadata": {
        "id": "HZcH6y30QoB_"
      }
    },
    {
      "cell_type": "code",
      "source": [
        "X_train, X_test, y_train, y_test = train_test_split(X_scaled, y, test_size=0.3, random_state=42)"
      ],
      "metadata": {
        "id": "qD-DLR4nQoCA"
      },
      "execution_count": 67,
      "outputs": []
    },
    {
      "cell_type": "markdown",
      "source": [
        "# Mengubah data menjadi bentuk yang sesuai untuk model RNN"
      ],
      "metadata": {
        "id": "IWmhbrCOQoCA"
      }
    },
    {
      "cell_type": "code",
      "source": [
        "X_train_rnn = X_train.reshape(X_train.shape[0], 1, X_train.shape[1])\n",
        "X_test_rnn = X_test.reshape(X_test.shape[0], 1, X_test.shape[1])\n",
        "\n",
        "label_encoder = LabelEncoder()\n",
        "\n",
        "# Mengubah nilai dalam kolom target menjadi representasi numerik\n",
        "y_train = label_encoder.fit_transform(y_train)\n",
        "y_test = label_encoder.transform(y_test)"
      ],
      "metadata": {
        "id": "4dQdEGuiQoCA"
      },
      "execution_count": 68,
      "outputs": []
    },
    {
      "cell_type": "markdown",
      "source": [
        "# Pembuatan Model"
      ],
      "metadata": {
        "id": "Bwdr0jlsQoCE"
      }
    },
    {
      "cell_type": "code",
      "source": [
        "model = Sequential()\n",
        "model.add(LSTM(64, input_shape=(1, X_train.shape[1]), activation='relu'))\n",
        "model.add(Dense(1, activation='sigmoid'))"
      ],
      "metadata": {
        "id": "z1ZPgcmeQoCE",
        "colab": {
          "base_uri": "https://localhost:8080/"
        },
        "outputId": "bbd9e8a9-072a-415e-96c6-1cb28afa48f6"
      },
      "execution_count": 69,
      "outputs": [
        {
          "output_type": "stream",
          "name": "stderr",
          "text": [
            "WARNING:tensorflow:Layer lstm_3 will not use cuDNN kernels since it doesn't meet the criteria. It will use a generic GPU kernel as fallback when running on GPU.\n"
          ]
        }
      ]
    },
    {
      "cell_type": "markdown",
      "source": [
        "# Fungsi untuk menghitung MAPE"
      ],
      "metadata": {
        "id": "uS0vW8WUlqCx"
      }
    },
    {
      "cell_type": "code",
      "source": [
        "def calculate_mape(y_true, y_pred):\n",
        "    return np.mean(np.abs((y_true - y_pred) / y_true)) * 100"
      ],
      "metadata": {
        "id": "lu1HfzKklpTa"
      },
      "execution_count": 70,
      "outputs": []
    },
    {
      "cell_type": "markdown",
      "source": [
        "# Compile Model"
      ],
      "metadata": {
        "id": "VVw2kKfPQoCE"
      }
    },
    {
      "cell_type": "code",
      "source": [
        "learning_rate = 0.005\n",
        "model.compile(loss='binary_crossentropy',\n",
        "        optimizer=tf.optimizers.Adam(learning_rate=learning_rate),\n",
        "        metrics=['accuracy'])\n",
        "model.summary()"
      ],
      "metadata": {
        "id": "y2PrUs_1QoCF",
        "colab": {
          "base_uri": "https://localhost:8080/"
        },
        "outputId": "21d2671d-e1b9-4183-d15d-45443f75c309"
      },
      "execution_count": 81,
      "outputs": [
        {
          "output_type": "stream",
          "name": "stdout",
          "text": [
            "Model: \"sequential_3\"\n",
            "_________________________________________________________________\n",
            " Layer (type)                Output Shape              Param #   \n",
            "=================================================================\n",
            " lstm_3 (LSTM)               (None, 64)                19968     \n",
            "                                                                 \n",
            " dense_3 (Dense)             (None, 1)                 65        \n",
            "                                                                 \n",
            "=================================================================\n",
            "Total params: 20,033\n",
            "Trainable params: 20,033\n",
            "Non-trainable params: 0\n",
            "_________________________________________________________________\n"
          ]
        }
      ]
    },
    {
      "cell_type": "markdown",
      "source": [
        "# Melatih model"
      ],
      "metadata": {
        "id": "3ko1VDp-QoCG"
      }
    },
    {
      "cell_type": "code",
      "source": [
        "model.fit(X_train_rnn, y_train, epochs=50, batch_size=32, validation_data=(X_test_rnn, y_test))\n",
        "print(\"*** Hasil Training ***\")\n",
        "loss, accuracy = model.evaluate(X_test_rnn, y_test)\n",
        "print(\"Loss: \", loss)\n",
        "print(\"Accuracy: \", accuracy)"
      ],
      "metadata": {
        "id": "a7qo_2ECQoCG",
        "colab": {
          "base_uri": "https://localhost:8080/"
        },
        "outputId": "08806e59-6747-488b-b566-a37d3d946752"
      },
      "execution_count": 82,
      "outputs": [
        {
          "output_type": "stream",
          "name": "stdout",
          "text": [
            "Epoch 1/50\n",
            "6/6 [==============================] - 3s 82ms/step - loss: 0.2807 - accuracy: 0.8889 - val_loss: 0.3649 - val_accuracy: 0.8395\n",
            "Epoch 2/50\n",
            "6/6 [==============================] - 0s 19ms/step - loss: 0.2641 - accuracy: 0.8889 - val_loss: 0.3746 - val_accuracy: 0.8272\n",
            "Epoch 3/50\n",
            "6/6 [==============================] - 0s 19ms/step - loss: 0.2562 - accuracy: 0.8995 - val_loss: 0.3786 - val_accuracy: 0.8272\n",
            "Epoch 4/50\n",
            "6/6 [==============================] - 0s 19ms/step - loss: 0.2494 - accuracy: 0.8995 - val_loss: 0.3870 - val_accuracy: 0.8148\n",
            "Epoch 5/50\n",
            "6/6 [==============================] - 0s 19ms/step - loss: 0.2408 - accuracy: 0.9048 - val_loss: 0.3882 - val_accuracy: 0.8148\n",
            "Epoch 6/50\n",
            "6/6 [==============================] - 0s 20ms/step - loss: 0.2332 - accuracy: 0.9101 - val_loss: 0.3930 - val_accuracy: 0.8148\n",
            "Epoch 7/50\n",
            "6/6 [==============================] - 0s 18ms/step - loss: 0.2255 - accuracy: 0.9101 - val_loss: 0.3998 - val_accuracy: 0.8148\n",
            "Epoch 8/50\n",
            "6/6 [==============================] - 0s 20ms/step - loss: 0.2174 - accuracy: 0.9206 - val_loss: 0.4089 - val_accuracy: 0.8025\n",
            "Epoch 9/50\n",
            "6/6 [==============================] - 0s 21ms/step - loss: 0.2122 - accuracy: 0.9259 - val_loss: 0.4109 - val_accuracy: 0.8148\n",
            "Epoch 10/50\n",
            "6/6 [==============================] - 0s 19ms/step - loss: 0.2020 - accuracy: 0.9312 - val_loss: 0.4151 - val_accuracy: 0.8025\n",
            "Epoch 11/50\n",
            "6/6 [==============================] - 0s 12ms/step - loss: 0.1941 - accuracy: 0.9312 - val_loss: 0.4181 - val_accuracy: 0.7901\n",
            "Epoch 12/50\n",
            "6/6 [==============================] - 0s 13ms/step - loss: 0.1871 - accuracy: 0.9312 - val_loss: 0.4274 - val_accuracy: 0.8025\n",
            "Epoch 13/50\n",
            "6/6 [==============================] - 0s 14ms/step - loss: 0.1790 - accuracy: 0.9418 - val_loss: 0.4334 - val_accuracy: 0.8025\n",
            "Epoch 14/50\n",
            "6/6 [==============================] - 0s 14ms/step - loss: 0.1722 - accuracy: 0.9365 - val_loss: 0.4389 - val_accuracy: 0.8025\n",
            "Epoch 15/50\n",
            "6/6 [==============================] - 0s 11ms/step - loss: 0.1655 - accuracy: 0.9365 - val_loss: 0.4445 - val_accuracy: 0.8025\n",
            "Epoch 16/50\n",
            "6/6 [==============================] - 0s 11ms/step - loss: 0.1575 - accuracy: 0.9524 - val_loss: 0.4505 - val_accuracy: 0.8025\n",
            "Epoch 17/50\n",
            "6/6 [==============================] - 0s 11ms/step - loss: 0.1513 - accuracy: 0.9524 - val_loss: 0.4531 - val_accuracy: 0.8148\n",
            "Epoch 18/50\n",
            "6/6 [==============================] - 0s 12ms/step - loss: 0.1431 - accuracy: 0.9524 - val_loss: 0.4585 - val_accuracy: 0.8025\n",
            "Epoch 19/50\n",
            "6/6 [==============================] - 0s 15ms/step - loss: 0.1366 - accuracy: 0.9577 - val_loss: 0.4652 - val_accuracy: 0.8025\n",
            "Epoch 20/50\n",
            "6/6 [==============================] - 0s 15ms/step - loss: 0.1300 - accuracy: 0.9630 - val_loss: 0.4719 - val_accuracy: 0.8025\n",
            "Epoch 21/50\n",
            "6/6 [==============================] - 0s 14ms/step - loss: 0.1239 - accuracy: 0.9630 - val_loss: 0.4792 - val_accuracy: 0.7901\n",
            "Epoch 22/50\n",
            "6/6 [==============================] - 0s 12ms/step - loss: 0.1178 - accuracy: 0.9630 - val_loss: 0.4834 - val_accuracy: 0.7901\n",
            "Epoch 23/50\n",
            "6/6 [==============================] - 0s 11ms/step - loss: 0.1115 - accuracy: 0.9630 - val_loss: 0.4890 - val_accuracy: 0.7901\n",
            "Epoch 24/50\n",
            "6/6 [==============================] - 0s 11ms/step - loss: 0.1066 - accuracy: 0.9683 - val_loss: 0.4961 - val_accuracy: 0.7654\n",
            "Epoch 25/50\n",
            "6/6 [==============================] - 0s 12ms/step - loss: 0.1006 - accuracy: 0.9788 - val_loss: 0.5055 - val_accuracy: 0.7531\n",
            "Epoch 26/50\n",
            "6/6 [==============================] - 0s 12ms/step - loss: 0.0949 - accuracy: 0.9788 - val_loss: 0.5159 - val_accuracy: 0.7654\n",
            "Epoch 27/50\n",
            "6/6 [==============================] - 0s 12ms/step - loss: 0.0898 - accuracy: 0.9788 - val_loss: 0.5184 - val_accuracy: 0.7654\n",
            "Epoch 28/50\n",
            "6/6 [==============================] - 0s 14ms/step - loss: 0.0857 - accuracy: 0.9788 - val_loss: 0.5310 - val_accuracy: 0.7654\n",
            "Epoch 29/50\n",
            "6/6 [==============================] - 0s 12ms/step - loss: 0.0811 - accuracy: 0.9788 - val_loss: 0.5403 - val_accuracy: 0.7531\n",
            "Epoch 30/50\n",
            "6/6 [==============================] - 0s 11ms/step - loss: 0.0762 - accuracy: 0.9788 - val_loss: 0.5488 - val_accuracy: 0.7654\n",
            "Epoch 31/50\n",
            "6/6 [==============================] - 0s 12ms/step - loss: 0.0725 - accuracy: 0.9788 - val_loss: 0.5558 - val_accuracy: 0.7654\n",
            "Epoch 32/50\n",
            "6/6 [==============================] - 0s 15ms/step - loss: 0.0688 - accuracy: 0.9788 - val_loss: 0.5620 - val_accuracy: 0.7531\n",
            "Epoch 33/50\n",
            "6/6 [==============================] - 0s 14ms/step - loss: 0.0652 - accuracy: 0.9894 - val_loss: 0.5726 - val_accuracy: 0.7531\n",
            "Epoch 34/50\n",
            "6/6 [==============================] - 0s 11ms/step - loss: 0.0611 - accuracy: 0.9894 - val_loss: 0.5819 - val_accuracy: 0.7407\n",
            "Epoch 35/50\n",
            "6/6 [==============================] - 0s 11ms/step - loss: 0.0579 - accuracy: 0.9894 - val_loss: 0.5989 - val_accuracy: 0.7531\n",
            "Epoch 36/50\n",
            "6/6 [==============================] - 0s 12ms/step - loss: 0.0548 - accuracy: 0.9894 - val_loss: 0.6100 - val_accuracy: 0.7654\n",
            "Epoch 37/50\n",
            "6/6 [==============================] - 0s 13ms/step - loss: 0.0530 - accuracy: 0.9894 - val_loss: 0.6084 - val_accuracy: 0.7654\n",
            "Epoch 38/50\n",
            "6/6 [==============================] - 0s 12ms/step - loss: 0.0494 - accuracy: 0.9894 - val_loss: 0.6122 - val_accuracy: 0.7531\n",
            "Epoch 39/50\n",
            "6/6 [==============================] - 0s 14ms/step - loss: 0.0469 - accuracy: 0.9894 - val_loss: 0.6319 - val_accuracy: 0.7654\n",
            "Epoch 40/50\n",
            "6/6 [==============================] - 0s 14ms/step - loss: 0.0447 - accuracy: 0.9894 - val_loss: 0.6463 - val_accuracy: 0.7654\n",
            "Epoch 41/50\n",
            "6/6 [==============================] - 0s 11ms/step - loss: 0.0422 - accuracy: 0.9894 - val_loss: 0.6547 - val_accuracy: 0.7778\n",
            "Epoch 42/50\n",
            "6/6 [==============================] - 0s 14ms/step - loss: 0.0395 - accuracy: 0.9894 - val_loss: 0.6629 - val_accuracy: 0.7531\n",
            "Epoch 43/50\n",
            "6/6 [==============================] - 0s 11ms/step - loss: 0.0382 - accuracy: 0.9894 - val_loss: 0.6696 - val_accuracy: 0.7531\n",
            "Epoch 44/50\n",
            "6/6 [==============================] - 0s 19ms/step - loss: 0.0355 - accuracy: 0.9947 - val_loss: 0.6818 - val_accuracy: 0.7654\n",
            "Epoch 45/50\n",
            "6/6 [==============================] - 0s 11ms/step - loss: 0.0342 - accuracy: 0.9947 - val_loss: 0.6892 - val_accuracy: 0.7654\n",
            "Epoch 46/50\n",
            "6/6 [==============================] - 0s 12ms/step - loss: 0.0324 - accuracy: 0.9947 - val_loss: 0.7038 - val_accuracy: 0.7531\n",
            "Epoch 47/50\n",
            "6/6 [==============================] - 0s 13ms/step - loss: 0.0315 - accuracy: 0.9947 - val_loss: 0.7191 - val_accuracy: 0.7778\n",
            "Epoch 48/50\n",
            "6/6 [==============================] - 0s 14ms/step - loss: 0.0301 - accuracy: 0.9947 - val_loss: 0.7228 - val_accuracy: 0.7531\n",
            "Epoch 49/50\n",
            "6/6 [==============================] - 0s 14ms/step - loss: 0.0284 - accuracy: 0.9947 - val_loss: 0.7288 - val_accuracy: 0.7654\n",
            "Epoch 50/50\n",
            "6/6 [==============================] - 0s 11ms/step - loss: 0.0264 - accuracy: 0.9947 - val_loss: 0.7415 - val_accuracy: 0.7778\n",
            "*** Hasil Training ***\n",
            "3/3 [==============================] - 0s 5ms/step - loss: 0.7415 - accuracy: 0.7778\n",
            "Loss:  0.7415006160736084\n",
            "Accuracy:  0.7777777910232544\n"
          ]
        }
      ]
    },
    {
      "cell_type": "markdown",
      "source": [
        "# Evaluasi model"
      ],
      "metadata": {
        "id": "5AW_jBZRQoCH"
      }
    },
    {
      "cell_type": "code",
      "source": [
        "loss, accuracy = model.evaluate(X_test_rnn, y_test)\n",
        "print(\"Loss: \", loss)\n",
        "print(\"Accuracy: \", accuracy)\n",
        "y_pred = model.predict(X_test_rnn)"
      ],
      "metadata": {
        "id": "JRM_9QgdQoCH",
        "colab": {
          "base_uri": "https://localhost:8080/"
        },
        "outputId": "d634e088-4ac1-4e8f-b408-f12e9760ade1"
      },
      "execution_count": 83,
      "outputs": [
        {
          "output_type": "stream",
          "name": "stdout",
          "text": [
            "3/3 [==============================] - 0s 5ms/step - loss: 0.7415 - accuracy: 0.7778\n",
            "Loss:  0.7415006160736084\n",
            "Accuracy:  0.7777777910232544\n",
            "3/3 [==============================] - 0s 3ms/step\n"
          ]
        }
      ]
    },
    {
      "cell_type": "markdown",
      "source": [
        "# Tahap Denormalisasi"
      ],
      "metadata": {
        "id": "GmfTyp_sl4Cq"
      }
    },
    {
      "cell_type": "code",
      "source": [
        "y_pred_classes = label_encoder.inverse_transform(np.argmax(y_pred, axis=1))\n",
        "y_pred_denormalized = scaler.inverse_transform(y_pred.reshape(-1, 1) * np.sqrt(scaler.var_) + scaler.mean_)\n",
        "y_test_denormalized = scaler.inverse_transform(y_test.reshape(-1, 1) * np.sqrt(scaler.var_) + scaler.mean_)"
      ],
      "metadata": {
        "id": "lvppNx12lORZ"
      },
      "execution_count": 84,
      "outputs": []
    },
    {
      "cell_type": "markdown",
      "source": [
        "# Menghitung RMSE & MAPE"
      ],
      "metadata": {
        "id": "I8SFN8iOl-zX"
      }
    },
    {
      "cell_type": "code",
      "source": [
        "rmse = np.sqrt(np.mean((y_test_denormalized - y_pred_denormalized)**2))\n",
        "mape = np.mean(np.abs((y_test_denormalized - y_pred_denormalized) / y_test_denormalized)) * 100\n",
        "\n",
        "print(\"RMSE:\", rmse)\n",
        "print(\"MAPE:\", mape)"
      ],
      "metadata": {
        "colab": {
          "base_uri": "https://localhost:8080/"
        },
        "id": "CkMH25aplQyB",
        "outputId": "a9503291-4779-4b95-923d-44e0173b9c02"
      },
      "execution_count": 85,
      "outputs": [
        {
          "output_type": "stream",
          "name": "stdout",
          "text": [
            "RMSE: 322.63473884844313\n",
            "MAPE: 6.605605107808382\n"
          ]
        }
      ]
    }
  ]
}