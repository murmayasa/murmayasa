{
  "metadata": {
    "kernelspec": {
      "language": "python",
      "display_name": "Python 3",
      "name": "python3"
    },
    "language_info": {
      "name": "python",
      "version": "3.10.10",
      "mimetype": "text/x-python",
      "codemirror_mode": {
        "name": "ipython",
        "version": 3
      },
      "pygments_lexer": "ipython3",
      "nbconvert_exporter": "python",
      "file_extension": ".py"
    },
    "colab": {
      "provenance": [],
      "include_colab_link": true
    }
  },
  "nbformat_minor": 0,
  "nbformat": 4,
  "cells": [
    {
      "cell_type": "markdown",
      "metadata": {
        "id": "view-in-github",
        "colab_type": "text"
      },
      "source": [
        "<a href=\"https://colab.research.google.com/github/murmayasa/murmayasa/blob/main/Prediction_Of_Heart_Disease_Using_A_RNN.ipynb\" target=\"_parent\"><img src=\"https://colab.research.google.com/assets/colab-badge.svg\" alt=\"Open In Colab\"/></a>"
      ]
    },
    {
      "cell_type": "markdown",
      "source": [
        "# Import Library"
      ],
      "metadata": {
        "id": "YT2UlhMtQoB3"
      }
    },
    {
      "cell_type": "code",
      "source": [
        "import numpy as np\n",
        "import pandas as pd\n",
        "import os\n",
        "import tensorflow as tf\n",
        "from sklearn.model_selection import train_test_split\n",
        "from sklearn.preprocessing import StandardScaler\n",
        "from tensorflow.keras.models import Sequential\n",
        "from tensorflow.keras.layers import Dense, LSTM\n",
        "from tensorflow.keras.callbacks import EarlyStopping\n",
        "from sklearn.preprocessing import LabelEncoder\n",
        "from tensorflow import keras\n",
        "keras.optimizers.Adam"
      ],
      "metadata": {
        "execution": {
          "iopub.status.busy": "2023-06-13T00:37:15.251554Z",
          "iopub.execute_input": "2023-06-13T00:37:15.251867Z",
          "iopub.status.idle": "2023-06-13T00:37:24.660599Z",
          "shell.execute_reply.started": "2023-06-13T00:37:15.251846Z",
          "shell.execute_reply": "2023-06-13T00:37:24.659414Z"
        },
        "trusted": true,
        "id": "KfH83e17QoB7",
        "colab": {
          "base_uri": "https://localhost:8080/"
        },
        "outputId": "8974c28f-2400-42e8-a580-669657d838fd"
      },
      "execution_count": 33,
      "outputs": [
        {
          "output_type": "execute_result",
          "data": {
            "text/plain": [
              "keras.optimizers.adam.Adam"
            ]
          },
          "metadata": {},
          "execution_count": 33
        }
      ]
    },
    {
      "cell_type": "markdown",
      "source": [
        "# Mengakses Dataset"
      ],
      "metadata": {
        "id": "HzoCh9thbPyu"
      }
    },
    {
      "cell_type": "code",
      "source": [
        "from google.colab import drive\n",
        "drive.mount('/content/drive/')\n",
        "csv_path = '/content/drive/MyDrive/Colab Notebooks/Heart_Disease_Prediction.csv'"
      ],
      "metadata": {
        "colab": {
          "base_uri": "https://localhost:8080/"
        },
        "id": "KihXAmByVg4o",
        "outputId": "53129a7d-8c47-49dd-f7ff-6f99a87983c8"
      },
      "execution_count": null,
      "outputs": [
        {
          "output_type": "stream",
          "name": "stdout",
          "text": [
            "Drive already mounted at /content/drive/; to attempt to forcibly remount, call drive.mount(\"/content/drive/\", force_remount=True).\n"
          ]
        }
      ]
    },
    {
      "cell_type": "markdown",
      "source": [
        "# Membaca Dataset"
      ],
      "metadata": {
        "id": "JUTFLLcmQoB8"
      }
    },
    {
      "cell_type": "code",
      "source": [
        "data = pd.read_csv(csv_path)"
      ],
      "metadata": {
        "id": "y1uJyhhRQoB8"
      },
      "execution_count": null,
      "outputs": []
    },
    {
      "cell_type": "markdown",
      "source": [
        "# Memilih Kolom"
      ],
      "metadata": {
        "id": "MXQtDHOTcpyz"
      }
    },
    {
      "cell_type": "code",
      "source": [
        "columns = ['Age', 'Sex', 'Chest pain type', 'BP', 'Cholesterol', 'FBS over 120', 'EKG results', 'Max HR',\n",
        "           'Exercise angina', 'ST depression', 'Slope of ST', 'Number of vessels fluro', 'Thallium', 'Heart Disease']\n",
        "data = data[columns]"
      ],
      "metadata": {
        "id": "YZxVPGZ_cr_L"
      },
      "execution_count": null,
      "outputs": []
    },
    {
      "cell_type": "markdown",
      "source": [
        "# Memisahkan fitur dan label"
      ],
      "metadata": {
        "id": "NgRhPFRpQoB9"
      }
    },
    {
      "cell_type": "code",
      "source": [
        "X = data.drop('Heart Disease', axis=1)\n",
        "y = data['Heart Disease']"
      ],
      "metadata": {
        "id": "XZoUUDv_QoB9"
      },
      "execution_count": null,
      "outputs": []
    },
    {
      "cell_type": "markdown",
      "source": [
        "# Normalisasi fitur menggunakan StandardScaler"
      ],
      "metadata": {
        "id": "lR7e7TFJQoB-"
      }
    },
    {
      "cell_type": "code",
      "source": [
        "scaler = StandardScaler()\n",
        "X_scaled = scaler.fit_transform(X)"
      ],
      "metadata": {
        "id": "8HK0Knc7QoB-"
      },
      "execution_count": null,
      "outputs": []
    },
    {
      "cell_type": "markdown",
      "source": [
        "# Membagi dataset menjadi data latih dan data uji"
      ],
      "metadata": {
        "id": "HZcH6y30QoB_"
      }
    },
    {
      "cell_type": "code",
      "source": [
        "X_train, X_test, y_train, y_test = train_test_split(X_scaled, y, test_size=0.2, random_state=42)"
      ],
      "metadata": {
        "id": "qD-DLR4nQoCA"
      },
      "execution_count": null,
      "outputs": []
    },
    {
      "cell_type": "markdown",
      "source": [
        "# Mengubah data menjadi bentuk yang sesuai untuk model RNN"
      ],
      "metadata": {
        "id": "IWmhbrCOQoCA"
      }
    },
    {
      "cell_type": "code",
      "source": [
        "X_train_rnn = X_train.reshape(X_train.shape[0], 1, X_train.shape[1])\n",
        "X_test_rnn = X_test.reshape(X_test.shape[0], 1, X_test.shape[1])\n",
        "\n",
        "label_encoder = LabelEncoder()\n",
        "\n",
        "# Mengubah nilai dalam kolom target menjadi representasi numerik\n",
        "y_train = label_encoder.fit_transform(y_train)\n",
        "y_test = label_encoder.transform(y_test)"
      ],
      "metadata": {
        "id": "4dQdEGuiQoCA"
      },
      "execution_count": null,
      "outputs": []
    },
    {
      "cell_type": "markdown",
      "source": [
        "# Pembuatan Model"
      ],
      "metadata": {
        "id": "Bwdr0jlsQoCE"
      }
    },
    {
      "cell_type": "code",
      "source": [
        "model = Sequential()\n",
        "model.add(LSTM(64, input_shape=(1, X_train.shape[1]), activation='relu'))\n",
        "model.add(Dense(1, activation='sigmoid'))"
      ],
      "metadata": {
        "id": "z1ZPgcmeQoCE"
      },
      "execution_count": null,
      "outputs": []
    },
    {
      "cell_type": "markdown",
      "source": [
        "# Compile Model"
      ],
      "metadata": {
        "id": "VVw2kKfPQoCE"
      }
    },
    {
      "cell_type": "code",
      "source": [
        "learning_rate = 0.001\n",
        "model.compile(loss='binary_crossentropy',\n",
        "        optimizer=tf.optimizers.Adam(learning_rate=learning_rate),\n",
        "        metrics=['accuracy'])\n",
        "model.summary()"
      ],
      "metadata": {
        "id": "y2PrUs_1QoCF",
        "colab": {
          "base_uri": "https://localhost:8080/"
        },
        "outputId": "c3ce21a7-4a03-44be-a75c-d77d6f8634bd"
      },
      "execution_count": 36,
      "outputs": [
        {
          "output_type": "stream",
          "name": "stdout",
          "text": [
            "Model: \"sequential\"\n",
            "_________________________________________________________________\n",
            " Layer (type)                Output Shape              Param #   \n",
            "=================================================================\n",
            " lstm (LSTM)                 (None, 64)                19968     \n",
            "                                                                 \n",
            " dense (Dense)               (None, 1)                 65        \n",
            "                                                                 \n",
            "=================================================================\n",
            "Total params: 20,033\n",
            "Trainable params: 20,033\n",
            "Non-trainable params: 0\n",
            "_________________________________________________________________\n"
          ]
        }
      ]
    },
    {
      "cell_type": "markdown",
      "source": [
        "# Melatih model"
      ],
      "metadata": {
        "id": "3ko1VDp-QoCG"
      }
    },
    {
      "cell_type": "code",
      "source": [
        "model.fit(X_train_rnn, y_train, epochs=50, batch_size=32, validation_data=(X_test_rnn, y_test))"
      ],
      "metadata": {
        "id": "a7qo_2ECQoCG",
        "colab": {
          "base_uri": "https://localhost:8080/"
        },
        "outputId": "6ff5904b-41f7-48bd-bbf3-f84af6912d89"
      },
      "execution_count": 39,
      "outputs": [
        {
          "output_type": "stream",
          "name": "stdout",
          "text": [
            "Epoch 1/50\n",
            "7/7 [==============================] - 0s 14ms/step - loss: 0.2914 - accuracy: 0.8611 - val_loss: 0.3154 - val_accuracy: 0.8704\n",
            "Epoch 2/50\n",
            "7/7 [==============================] - 0s 8ms/step - loss: 0.2898 - accuracy: 0.8657 - val_loss: 0.3148 - val_accuracy: 0.8704\n",
            "Epoch 3/50\n",
            "7/7 [==============================] - 0s 8ms/step - loss: 0.2879 - accuracy: 0.8657 - val_loss: 0.3148 - val_accuracy: 0.8704\n",
            "Epoch 4/50\n",
            "7/7 [==============================] - 0s 8ms/step - loss: 0.2861 - accuracy: 0.8657 - val_loss: 0.3148 - val_accuracy: 0.8704\n",
            "Epoch 5/50\n",
            "7/7 [==============================] - 0s 8ms/step - loss: 0.2844 - accuracy: 0.8704 - val_loss: 0.3144 - val_accuracy: 0.8889\n",
            "Epoch 6/50\n",
            "7/7 [==============================] - 0s 12ms/step - loss: 0.2827 - accuracy: 0.8704 - val_loss: 0.3155 - val_accuracy: 0.8889\n",
            "Epoch 7/50\n",
            "7/7 [==============================] - 0s 11ms/step - loss: 0.2808 - accuracy: 0.8704 - val_loss: 0.3158 - val_accuracy: 0.8889\n",
            "Epoch 8/50\n",
            "7/7 [==============================] - 0s 11ms/step - loss: 0.2793 - accuracy: 0.8704 - val_loss: 0.3167 - val_accuracy: 0.8889\n",
            "Epoch 9/50\n",
            "7/7 [==============================] - 0s 11ms/step - loss: 0.2775 - accuracy: 0.8704 - val_loss: 0.3160 - val_accuracy: 0.8889\n",
            "Epoch 10/50\n",
            "7/7 [==============================] - 0s 10ms/step - loss: 0.2760 - accuracy: 0.8704 - val_loss: 0.3167 - val_accuracy: 0.8889\n",
            "Epoch 11/50\n",
            "7/7 [==============================] - 0s 8ms/step - loss: 0.2741 - accuracy: 0.8704 - val_loss: 0.3167 - val_accuracy: 0.8889\n",
            "Epoch 12/50\n",
            "7/7 [==============================] - 0s 8ms/step - loss: 0.2726 - accuracy: 0.8704 - val_loss: 0.3172 - val_accuracy: 0.8889\n",
            "Epoch 13/50\n",
            "7/7 [==============================] - 0s 10ms/step - loss: 0.2710 - accuracy: 0.8704 - val_loss: 0.3175 - val_accuracy: 0.8889\n",
            "Epoch 14/50\n",
            "7/7 [==============================] - 0s 9ms/step - loss: 0.2692 - accuracy: 0.8704 - val_loss: 0.3187 - val_accuracy: 0.8889\n",
            "Epoch 15/50\n",
            "7/7 [==============================] - 0s 11ms/step - loss: 0.2676 - accuracy: 0.8704 - val_loss: 0.3197 - val_accuracy: 0.8889\n",
            "Epoch 16/50\n",
            "7/7 [==============================] - 0s 10ms/step - loss: 0.2659 - accuracy: 0.8750 - val_loss: 0.3208 - val_accuracy: 0.8889\n",
            "Epoch 17/50\n",
            "7/7 [==============================] - 0s 10ms/step - loss: 0.2646 - accuracy: 0.8796 - val_loss: 0.3214 - val_accuracy: 0.8889\n",
            "Epoch 18/50\n",
            "7/7 [==============================] - 0s 8ms/step - loss: 0.2627 - accuracy: 0.8843 - val_loss: 0.3216 - val_accuracy: 0.8889\n",
            "Epoch 19/50\n",
            "7/7 [==============================] - 0s 8ms/step - loss: 0.2610 - accuracy: 0.8889 - val_loss: 0.3218 - val_accuracy: 0.8889\n",
            "Epoch 20/50\n",
            "7/7 [==============================] - 0s 8ms/step - loss: 0.2596 - accuracy: 0.8889 - val_loss: 0.3230 - val_accuracy: 0.9074\n",
            "Epoch 21/50\n",
            "7/7 [==============================] - 0s 10ms/step - loss: 0.2578 - accuracy: 0.8889 - val_loss: 0.3233 - val_accuracy: 0.9074\n",
            "Epoch 22/50\n",
            "7/7 [==============================] - 0s 8ms/step - loss: 0.2560 - accuracy: 0.8889 - val_loss: 0.3234 - val_accuracy: 0.9074\n",
            "Epoch 23/50\n",
            "7/7 [==============================] - 0s 8ms/step - loss: 0.2543 - accuracy: 0.8935 - val_loss: 0.3236 - val_accuracy: 0.9074\n",
            "Epoch 24/50\n",
            "7/7 [==============================] - 0s 11ms/step - loss: 0.2527 - accuracy: 0.8935 - val_loss: 0.3245 - val_accuracy: 0.9074\n",
            "Epoch 25/50\n",
            "7/7 [==============================] - 0s 10ms/step - loss: 0.2511 - accuracy: 0.8935 - val_loss: 0.3255 - val_accuracy: 0.9074\n",
            "Epoch 26/50\n",
            "7/7 [==============================] - 0s 11ms/step - loss: 0.2494 - accuracy: 0.8981 - val_loss: 0.3264 - val_accuracy: 0.9074\n",
            "Epoch 27/50\n",
            "7/7 [==============================] - 0s 9ms/step - loss: 0.2478 - accuracy: 0.8981 - val_loss: 0.3269 - val_accuracy: 0.9074\n",
            "Epoch 28/50\n",
            "7/7 [==============================] - 0s 11ms/step - loss: 0.2462 - accuracy: 0.8981 - val_loss: 0.3268 - val_accuracy: 0.9074\n",
            "Epoch 29/50\n",
            "7/7 [==============================] - 0s 8ms/step - loss: 0.2443 - accuracy: 0.8981 - val_loss: 0.3272 - val_accuracy: 0.9074\n",
            "Epoch 30/50\n",
            "7/7 [==============================] - 0s 8ms/step - loss: 0.2428 - accuracy: 0.8981 - val_loss: 0.3276 - val_accuracy: 0.9074\n",
            "Epoch 31/50\n",
            "7/7 [==============================] - 0s 11ms/step - loss: 0.2411 - accuracy: 0.8981 - val_loss: 0.3277 - val_accuracy: 0.9074\n",
            "Epoch 32/50\n",
            "7/7 [==============================] - 0s 8ms/step - loss: 0.2394 - accuracy: 0.8981 - val_loss: 0.3287 - val_accuracy: 0.9074\n",
            "Epoch 33/50\n",
            "7/7 [==============================] - 0s 8ms/step - loss: 0.2379 - accuracy: 0.8981 - val_loss: 0.3306 - val_accuracy: 0.9074\n",
            "Epoch 34/50\n",
            "7/7 [==============================] - 0s 9ms/step - loss: 0.2359 - accuracy: 0.8981 - val_loss: 0.3309 - val_accuracy: 0.9074\n",
            "Epoch 35/50\n",
            "7/7 [==============================] - 0s 10ms/step - loss: 0.2342 - accuracy: 0.8981 - val_loss: 0.3312 - val_accuracy: 0.9074\n",
            "Epoch 36/50\n",
            "7/7 [==============================] - 0s 10ms/step - loss: 0.2324 - accuracy: 0.8981 - val_loss: 0.3319 - val_accuracy: 0.9074\n",
            "Epoch 37/50\n",
            "7/7 [==============================] - 0s 8ms/step - loss: 0.2308 - accuracy: 0.9028 - val_loss: 0.3331 - val_accuracy: 0.9074\n",
            "Epoch 38/50\n",
            "7/7 [==============================] - 0s 8ms/step - loss: 0.2288 - accuracy: 0.9028 - val_loss: 0.3337 - val_accuracy: 0.9074\n",
            "Epoch 39/50\n",
            "7/7 [==============================] - 0s 11ms/step - loss: 0.2270 - accuracy: 0.9028 - val_loss: 0.3346 - val_accuracy: 0.9074\n",
            "Epoch 40/50\n",
            "7/7 [==============================] - 0s 11ms/step - loss: 0.2252 - accuracy: 0.9028 - val_loss: 0.3358 - val_accuracy: 0.9074\n",
            "Epoch 41/50\n",
            "7/7 [==============================] - 0s 11ms/step - loss: 0.2234 - accuracy: 0.9028 - val_loss: 0.3362 - val_accuracy: 0.9074\n",
            "Epoch 42/50\n",
            "7/7 [==============================] - 0s 11ms/step - loss: 0.2216 - accuracy: 0.9028 - val_loss: 0.3364 - val_accuracy: 0.9074\n",
            "Epoch 43/50\n",
            "7/7 [==============================] - 0s 11ms/step - loss: 0.2199 - accuracy: 0.9028 - val_loss: 0.3369 - val_accuracy: 0.9074\n",
            "Epoch 44/50\n",
            "7/7 [==============================] - 0s 8ms/step - loss: 0.2180 - accuracy: 0.9028 - val_loss: 0.3373 - val_accuracy: 0.9074\n",
            "Epoch 45/50\n",
            "7/7 [==============================] - 0s 9ms/step - loss: 0.2162 - accuracy: 0.9074 - val_loss: 0.3386 - val_accuracy: 0.9074\n",
            "Epoch 46/50\n",
            "7/7 [==============================] - 0s 11ms/step - loss: 0.2144 - accuracy: 0.9074 - val_loss: 0.3387 - val_accuracy: 0.9074\n",
            "Epoch 47/50\n",
            "7/7 [==============================] - 0s 11ms/step - loss: 0.2125 - accuracy: 0.9074 - val_loss: 0.3401 - val_accuracy: 0.9074\n",
            "Epoch 48/50\n",
            "7/7 [==============================] - 0s 11ms/step - loss: 0.2109 - accuracy: 0.9120 - val_loss: 0.3412 - val_accuracy: 0.9074\n",
            "Epoch 49/50\n",
            "7/7 [==============================] - 0s 9ms/step - loss: 0.2088 - accuracy: 0.9120 - val_loss: 0.3417 - val_accuracy: 0.9074\n",
            "Epoch 50/50\n",
            "7/7 [==============================] - 0s 10ms/step - loss: 0.2072 - accuracy: 0.9120 - val_loss: 0.3426 - val_accuracy: 0.9074\n"
          ]
        },
        {
          "output_type": "execute_result",
          "data": {
            "text/plain": [
              "<keras.callbacks.History at 0x7f243e68fd30>"
            ]
          },
          "metadata": {},
          "execution_count": 39
        }
      ]
    },
    {
      "cell_type": "markdown",
      "source": [
        "# Evaluasi model"
      ],
      "metadata": {
        "id": "5AW_jBZRQoCH"
      }
    },
    {
      "cell_type": "code",
      "source": [
        "_, accuracy = model.evaluate(X_test_rnn, y_test)\n",
        "print('Accuracy: %.2f%%' % (accuracy * 100))"
      ],
      "metadata": {
        "id": "JRM_9QgdQoCH",
        "colab": {
          "base_uri": "https://localhost:8080/"
        },
        "outputId": "d9f22f79-9b50-4bbd-f637-4e7aeaf246ec"
      },
      "execution_count": 40,
      "outputs": [
        {
          "output_type": "stream",
          "name": "stdout",
          "text": [
            "2/2 [==============================] - 0s 10ms/step - loss: 0.3426 - accuracy: 0.9074\n",
            "Accuracy: 90.74%\n"
          ]
        }
      ]
    }
  ]
}