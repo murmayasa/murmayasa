{
  "cells": [
    {
      "cell_type": "markdown",
      "metadata": {
        "id": "view-in-github",
        "colab_type": "text"
      },
      "source": [
        "<a href=\"https://colab.research.google.com/github/murmayasa/murmayasa/blob/main/model_klasifikasi.ipynb\" target=\"_parent\"><img src=\"https://colab.research.google.com/assets/colab-badge.svg\" alt=\"Open In Colab\"/></a>"
      ]
    },
    {
      "cell_type": "markdown",
      "metadata": {
        "id": "rhfdl5NBHqE9"
      },
      "source": [
        "# Import Library"
      ]
    },
    {
      "cell_type": "code",
      "execution_count": null,
      "metadata": {
        "colab": {
          "base_uri": "https://localhost:8080/"
        },
        "id": "6cQm8ydOHvEn",
        "outputId": "c5d6e5e3-f2a3-4127-86c4-1bb44d1b85ff"
      },
      "outputs": [
        {
          "output_type": "execute_result",
          "data": {
            "text/plain": [
              "keras.optimizers.adam.Adam"
            ]
          },
          "metadata": {},
          "execution_count": 1
        }
      ],
      "source": [
        "import tensorflow as tf\n",
        "import numpy as np\n",
        "import os\n",
        "import shutil\n",
        "from tensorflow.keras.preprocessing.image import ImageDataGenerator\n",
        "from tensorflow import keras\n",
        "from sklearn.model_selection import train_test_split, StratifiedKFold\n",
        "from sklearn.metrics import confusion_matrix, accuracy_score, f1_score, precision_score, classification_report\n",
        "from sklearn.utils import shuffle\n",
        "import random\n",
        "import pandas as pd\n",
        "import matplotlib.pyplot as plt\n",
        "keras.optimizers.Adam"
      ]
    },
    {
      "cell_type": "markdown",
      "metadata": {
        "id": "rXEONerwAy0s"
      },
      "source": [
        "# Mengakses Dataset"
      ]
    },
    {
      "cell_type": "code",
      "execution_count": null,
      "metadata": {
        "colab": {
          "base_uri": "https://localhost:8080/"
        },
        "id": "GSCR3u_yMRU3",
        "outputId": "fdef965d-a18e-4b52-b23c-dc8dc90a6e77"
      },
      "outputs": [
        {
          "output_type": "stream",
          "name": "stdout",
          "text": [
            "Drive already mounted at /content/drive/; to attempt to forcibly remount, call drive.mount(\"/content/drive/\", force_remount=True).\n",
            "cataract  normal\n",
            "      Kelas  Jumlah Data\n",
            "0  cataract          516\n",
            "1    normal          523\n"
          ]
        }
      ],
      "source": [
        "from google.colab import drive\n",
        "drive.mount('/content/drive/')\n",
        "base_dir = '/content/drive/My Drive/SEMINAR_MURMAYASA 19101032/Projek/dataset/dataset 2'\n",
        "!ls \"/content/drive/My Drive/SEMINAR_MURMAYASA 19101032/Projek/dataset/dataset 2\"\n",
        "\n",
        "dataset_files = os.listdir(base_dir)\n",
        "class_counts = []\n",
        "class_labels = []\n",
        "\n",
        "for class_dir in dataset_files:\n",
        "    class_path = os.path.join(base_dir, class_dir)\n",
        "    if os.path.isdir(class_path):\n",
        "        class_count = len(os.listdir(class_path))\n",
        "        class_counts.append(class_count)\n",
        "        class_labels.append(class_dir)\n",
        "\n",
        "data = {'Kelas': class_labels, 'Jumlah Data': class_counts}\n",
        "df = pd.DataFrame(data)\n",
        "print(df)"
      ]
    },
    {
      "cell_type": "markdown",
      "metadata": {
        "id": "MyyJpXk1SBMz"
      },
      "source": [
        "# Menampilkan jumlah dataset"
      ]
    },
    {
      "cell_type": "code",
      "execution_count": null,
      "metadata": {
        "colab": {
          "base_uri": "https://localhost:8080/",
          "height": 524
        },
        "id": "UqxBZEiUSCr_",
        "outputId": "e53de320-42fa-42f6-e2fd-ea161ee47a03"
      },
      "outputs": [
        {
          "output_type": "stream",
          "name": "stdout",
          "text": [
            "Jumlah data setiap kelas\n",
            "Jumlah dataset Cataract :  516\n",
            "Jumlah dataset Normal :  523\n"
          ]
        },
        {
          "output_type": "display_data",
          "data": {
            "text/plain": [
              "<Figure size 640x480 with 1 Axes>"
            ],
            "image/png": "[encoded data removed]"
          },
          "metadata": {}
        }
      ],
      "source": [
        "cataract_dir = os.path.join(base_dir, 'cataract/')\n",
        "normal_dir = os.path.join(base_dir, 'normal/')\n",
        "\n",
        "print(\"Jumlah data setiap kelas\")\n",
        "print('Jumlah dataset Cataract : ',len(os.listdir(cataract_dir)))\n",
        "print('Jumlah dataset Normal : ',len(os.listdir(normal_dir)))\n",
        "\n",
        "num_cataract = len(os.listdir(cataract_dir))\n",
        "num_normal = len(os.listdir(normal_dir))\n",
        "\n",
        "# Menampilkan diagram jumlah\n",
        "labels = ['Cataract', 'Normal']\n",
        "values = [num_cataract, num_normal]\n",
        "\n",
        "plt.bar(labels, values)\n",
        "plt.xlabel('Kelas')\n",
        "plt.ylabel('Jumlah')\n",
        "plt.title('Jumlah Data Setiap Kelas')\n",
        "plt.show()"
      ]
    },
    {
      "cell_type": "markdown",
      "metadata": {
        "id": "ygP4fcUDR4yz"
      },
      "source": [
        "# Menggabungkan dataset"
      ]
    },
    {
      "cell_type": "code",
      "execution_count": null,
      "metadata": {
        "id": "YCav0ysHR6Bo"
      },
      "outputs": [],
      "source": [
        "dataset_dir = os.path.join(base_dir, 'dataset')\n",
        "train_dir = os.path.join(base_dir, 'latih')\n",
        "test_dir = os.path.join(base_dir, 'test')\n",
        "validation_dir = os.path.join(base_dir, 'validasi')"
      ]
    },
    {
      "cell_type": "markdown",
      "metadata": {
        "id": "HKKPoQAz2Xat"
      },
      "source": [
        "# Split Dataset"
      ]
    },
    {
      "cell_type": "code",
      "execution_count": null,
      "metadata": {
        "colab": {
          "base_uri": "https://localhost:8080/",
          "height": 472
        },
        "id": "hYXR6oMr4TqV",
        "outputId": "d5b2187f-f592-464c-81f1-8a8612887d28"
      },
      "outputs": [
        {
          "output_type": "display_data",
          "data": {
            "text/plain": [
              "<Figure size 640x480 with 1 Axes>"
            ],
            "image/png": "[encoded data removed]"
          },
          "metadata": {}
        }
      ],
      "source": [
        "image_paths = []\n",
        "labels = []\n",
        "for label, label_dir in enumerate([cataract_dir, normal_dir]):\n",
        "    for filename in os.listdir(label_dir):\n",
        "        image_paths.append(os.path.join(label_dir, filename))\n",
        "        labels.append(label)\n",
        "\n",
        "train_val_paths, test_paths, train_val_labels, test_labels = train_test_split(\n",
        "    image_paths, labels, test_size=0.2, random_state=42, stratify=labels)\n",
        "\n",
        "num_train_val = len(train_val_paths)\n",
        "num_test = len(test_paths)\n",
        "\n",
        "# Menampilkan diagram jumlah split\n",
        "labels = ['Train/Validation', 'Test']\n",
        "values = [num_train_val, num_test]\n",
        "plt.bar(labels, values)\n",
        "plt.xlabel('Split')\n",
        "plt.ylabel('Jumlah')\n",
        "plt.title('Jumlah Hasil Split')\n",
        "plt.show()\n",
        "\n",
        "def my_metrics(y_true, y_pred):\n",
        "    accuracy = accuracy_score(y_true, y_pred)\n",
        "    precision = precision_score(y_true, y_pred, average='weighted', zero_division=0)\n",
        "    f1_Score = f1_score(y_true, y_pred, average='weighted', zero_division=0)\n",
        "    print(\"Accuracy  : {}\".format(accuracy))\n",
        "    print(\"Precision : {}\".format(precision))\n",
        "    print(\"f1Score : {}\".format(f1_Score))\n",
        "    cm = confusion_matrix(y_true, y_pred)\n",
        "    print(cm)\n",
        "    return accuracy, precision, f1_Score"
      ]
    },
    {
      "cell_type": "markdown",
      "metadata": {
        "id": "ITR2mvNo5zme"
      },
      "source": [
        "# Pembuatan Model"
      ]
    },
    {
      "cell_type": "code",
      "execution_count": null,
      "metadata": {
        "id": "tHnhJtLKakh-"
      },
      "outputs": [],
      "source": [
        "model = tf.keras.models.Sequential([\n",
        "        tf.keras.layers.Conv2D(32, (3,3), activation='relu', input_shape=(100,150,3)),\n",
        "        tf.keras.layers.MaxPooling2D(2,2),\n",
        "        tf.keras.layers.Dropout(0.2),\n",
        "        tf.keras.layers.Conv2D(64, (3,3), activation='relu'),\n",
        "        tf.keras.layers.MaxPooling2D(2,2),\n",
        "        tf.keras.layers.Dropout(0.2),\n",
        "        tf.keras.layers.Conv2D(128, (3,3), activation='relu'),\n",
        "        tf.keras.layers.MaxPooling2D(2,2),\n",
        "        tf.keras.layers.Dropout(0.2),\n",
        "        tf.keras.layers.Conv2D(512, (3,3), activation='relu'),\n",
        "        tf.keras.layers.MaxPooling2D(2,2),\n",
        "        tf.keras.layers.Dropout(0.2),\n",
        "        tf.keras.layers.Flatten(),\n",
        "        tf.keras.layers.Dense(512, activation='relu'),\n",
        "        tf.keras.layers.Dropout(0.2),\n",
        "        tf.keras.layers.Dense(2, activation='softmax'),\n",
        "])"
      ]
    },
    {
      "cell_type": "markdown",
      "metadata": {
        "id": "Z9Ro86ildHVf"
      },
      "source": [
        "# Compile"
      ]
    },
    {
      "cell_type": "code",
      "execution_count": null,
      "metadata": {
        "colab": {
          "base_uri": "https://localhost:8080/"
        },
        "id": "Y9lj5cJtdIju",
        "outputId": "eda23aa1-02e7-41d6-e149-34884f3c090f"
      },
      "outputs": [
        {
          "output_type": "stream",
          "name": "stdout",
          "text": [
            "Model: \"sequential_1\"\n",
            "_________________________________________________________________\n",
            " Layer (type)                Output Shape              Param #   \n",
            "=================================================================\n",
            " conv2d_4 (Conv2D)           (None, 98, 148, 32)       896       \n",
            "                                                                 \n",
            " max_pooling2d_4 (MaxPooling  (None, 49, 74, 32)       0         \n",
            " 2D)                                                             \n",
            "                                                                 \n",
            " dropout (Dropout)           (None, 49, 74, 32)        0         \n",
            "                                                                 \n",
            " conv2d_5 (Conv2D)           (None, 47, 72, 64)        18496     \n",
            "                                                                 \n",
            " max_pooling2d_5 (MaxPooling  (None, 23, 36, 64)       0         \n",
            " 2D)                                                             \n",
            "                                                                 \n",
            " dropout_1 (Dropout)         (None, 23, 36, 64)        0         \n",
            "                                                                 \n",
            " conv2d_6 (Conv2D)           (None, 21, 34, 128)       73856     \n",
            "                                                                 \n",
            " max_pooling2d_6 (MaxPooling  (None, 10, 17, 128)      0         \n",
            " 2D)                                                             \n",
            "                                                                 \n",
            " dropout_2 (Dropout)         (None, 10, 17, 128)       0         \n",
            "                                                                 \n",
            " conv2d_7 (Conv2D)           (None, 8, 15, 512)        590336    \n",
            "                                                                 \n",
            " max_pooling2d_7 (MaxPooling  (None, 4, 7, 512)        0         \n",
            " 2D)                                                             \n",
            "                                                                 \n",
            " dropout_3 (Dropout)         (None, 4, 7, 512)         0         \n",
            "                                                                 \n",
            " flatten_1 (Flatten)         (None, 14336)             0         \n",
            "                                                                 \n",
            " dense_2 (Dense)             (None, 512)               7340544   \n",
            "                                                                 \n",
            " dropout_4 (Dropout)         (None, 512)               0         \n",
            "                                                                 \n",
            " dense_3 (Dense)             (None, 2)                 1026      \n",
            "                                                                 \n",
            "=================================================================\n",
            "Total params: 8,025,154\n",
            "Trainable params: 8,025,154\n",
            "Non-trainable params: 0\n",
            "_________________________________________________________________\n"
          ]
        }
      ],
      "source": [
        "learning_rate = 0.001\n",
        "model.compile(loss='categorical_crossentropy',\n",
        "        optimizer=tf.optimizers.Adam(learning_rate=learning_rate),\n",
        "        metrics=['accuracy'])\n",
        "model.summary()"
      ]
    },
    {
      "cell_type": "markdown",
      "metadata": {
        "id": "4vSSH7OBQTf2"
      },
      "source": [
        "# Training Model"
      ]
    },
    {
      "cell_type": "code",
      "execution_count": null,
      "metadata": {
        "colab": {
          "base_uri": "https://localhost:8080/"
        },
        "id": "Uj5CXnoEXXf4",
        "outputId": "4ea0f11b-f1ca-434b-b8bb-25b0f23708e6"
      },
      "outputs": [
        {
          "output_type": "stream",
          "name": "stdout",
          "text": [
            "Results for fold: 1\n",
            "Found 664 validated image filenames belonging to 2 classes.\n",
            "Found 167 validated image filenames belonging to 2 classes.\n",
            "Epoch 1/25\n",
            "21/21 - 36s - loss: 0.8873 - accuracy: 0.5075 - val_loss: 0.6923 - val_accuracy: 0.5030 - 36s/epoch - 2s/step\n",
            "Epoch 2/25\n",
            "21/21 - 25s - loss: 0.6893 - accuracy: 0.5512 - val_loss: 0.6929 - val_accuracy: 0.5030 - 25s/epoch - 1s/step\n",
            "Epoch 3/25\n",
            "21/21 - 24s - loss: 0.6953 - accuracy: 0.5030 - val_loss: 0.6933 - val_accuracy: 0.5030 - 24s/epoch - 1s/step\n",
            "Epoch 4/25\n",
            "21/21 - 22s - loss: 0.6925 - accuracy: 0.5301 - val_loss: 0.6924 - val_accuracy: 0.5030 - 22s/epoch - 1s/step\n",
            "Epoch 5/25\n",
            "21/21 - 24s - loss: 0.6850 - accuracy: 0.6160 - val_loss: 0.6658 - val_accuracy: 0.6527 - 24s/epoch - 1s/step\n",
            "Epoch 6/25\n",
            "21/21 - 22s - loss: 0.6578 - accuracy: 0.6431 - val_loss: 0.6483 - val_accuracy: 0.6647 - 22s/epoch - 1s/step\n",
            "Epoch 7/25\n",
            "21/21 - 24s - loss: 0.6503 - accuracy: 0.6205 - val_loss: 0.5883 - val_accuracy: 0.7605 - 24s/epoch - 1s/step\n",
            "Epoch 8/25\n",
            "21/21 - 24s - loss: 0.6325 - accuracy: 0.6506 - val_loss: 0.6075 - val_accuracy: 0.7006 - 24s/epoch - 1s/step\n",
            "Epoch 9/25\n",
            "21/21 - 24s - loss: 0.6229 - accuracy: 0.6581 - val_loss: 0.6113 - val_accuracy: 0.7126 - 24s/epoch - 1s/step\n",
            "Epoch 10/25\n",
            "21/21 - 25s - loss: 0.6224 - accuracy: 0.6657 - val_loss: 0.6167 - val_accuracy: 0.6707 - 25s/epoch - 1s/step\n",
            "Epoch 11/25\n",
            "21/21 - 24s - loss: 0.6430 - accuracy: 0.6130 - val_loss: 0.5893 - val_accuracy: 0.6707 - 24s/epoch - 1s/step\n",
            "Epoch 12/25\n",
            "21/21 - 23s - loss: 0.6264 - accuracy: 0.6837 - val_loss: 0.5971 - val_accuracy: 0.7186 - 23s/epoch - 1s/step\n",
            "Epoch 13/25\n",
            "21/21 - 24s - loss: 0.6065 - accuracy: 0.6732 - val_loss: 0.5827 - val_accuracy: 0.6707 - 24s/epoch - 1s/step\n",
            "Epoch 14/25\n",
            "21/21 - 24s - loss: 0.6284 - accuracy: 0.6431 - val_loss: 0.5976 - val_accuracy: 0.6946 - 24s/epoch - 1s/step\n",
            "Epoch 15/25\n",
            "21/21 - 23s - loss: 0.6200 - accuracy: 0.6536 - val_loss: 0.5929 - val_accuracy: 0.7066 - 23s/epoch - 1s/step\n",
            "Epoch 16/25\n",
            "21/21 - 22s - loss: 0.6020 - accuracy: 0.6521 - val_loss: 0.6058 - val_accuracy: 0.6228 - 22s/epoch - 1s/step\n",
            "Epoch 17/25\n",
            "21/21 - 24s - loss: 0.6414 - accuracy: 0.6310 - val_loss: 0.6367 - val_accuracy: 0.6168 - 24s/epoch - 1s/step\n",
            "Epoch 18/25\n",
            "21/21 - 22s - loss: 0.6166 - accuracy: 0.6581 - val_loss: 0.5969 - val_accuracy: 0.6587 - 22s/epoch - 1s/step\n",
            "Epoch 19/25\n",
            "21/21 - 24s - loss: 0.6102 - accuracy: 0.6732 - val_loss: 0.6048 - val_accuracy: 0.6228 - 24s/epoch - 1s/step\n",
            "Epoch 20/25\n",
            "21/21 - 24s - loss: 0.6044 - accuracy: 0.6581 - val_loss: 0.6213 - val_accuracy: 0.6228 - 24s/epoch - 1s/step\n",
            "Epoch 21/25\n",
            "21/21 - 23s - loss: 0.6111 - accuracy: 0.6717 - val_loss: 0.6050 - val_accuracy: 0.6407 - 23s/epoch - 1s/step\n",
            "Epoch 22/25\n",
            "21/21 - 24s - loss: 0.5916 - accuracy: 0.6807 - val_loss: 0.5931 - val_accuracy: 0.6527 - 24s/epoch - 1s/step\n",
            "Epoch 23/25\n",
            "21/21 - 24s - loss: 0.6040 - accuracy: 0.6627 - val_loss: 0.5822 - val_accuracy: 0.7425 - 24s/epoch - 1s/step\n",
            "Epoch 24/25\n",
            "21/21 - 24s - loss: 0.5993 - accuracy: 0.6777 - val_loss: 0.6192 - val_accuracy: 0.6407 - 24s/epoch - 1s/step\n",
            "Epoch 25/25\n",
            "21/21 - 23s - loss: 0.6080 - accuracy: 0.6536 - val_loss: 0.5939 - val_accuracy: 0.6766 - 23s/epoch - 1s/step\n",
            "6/6 [==============================] - 5s 863ms/step\n",
            "*** Performance on Validation data ***\n",
            "Accuracy  : 0.6766467065868264\n",
            "Precision : 0.7034956635401762\n",
            "f1Score : 0.6662460349930132\n",
            "[[71 12]\n",
            " [42 42]]\n",
            "Results for fold: 2\n",
            "Found 665 validated image filenames belonging to 2 classes.\n",
            "Found 166 validated image filenames belonging to 2 classes.\n",
            "Epoch 1/25\n",
            "21/21 - 23s - loss: 0.6007 - accuracy: 0.6827 - val_loss: 0.5776 - val_accuracy: 0.7349 - 23s/epoch - 1s/step\n",
            "Epoch 2/25\n",
            "21/21 - 23s - loss: 0.6228 - accuracy: 0.6541 - val_loss: 0.5335 - val_accuracy: 0.7349 - 23s/epoch - 1s/step\n",
            "Epoch 3/25\n",
            "21/21 - 23s - loss: 0.6259 - accuracy: 0.6316 - val_loss: 0.5917 - val_accuracy: 0.6687 - 23s/epoch - 1s/step\n",
            "Epoch 4/25\n",
            "21/21 - 25s - loss: 0.6129 - accuracy: 0.6632 - val_loss: 0.5845 - val_accuracy: 0.7289 - 25s/epoch - 1s/step\n",
            "Epoch 5/25\n",
            "21/21 - 29s - loss: 0.6021 - accuracy: 0.6707 - val_loss: 0.5320 - val_accuracy: 0.7289 - 29s/epoch - 1s/step\n",
            "Epoch 6/25\n",
            "21/21 - 23s - loss: 0.6013 - accuracy: 0.6902 - val_loss: 0.5651 - val_accuracy: 0.6988 - 23s/epoch - 1s/step\n",
            "Epoch 7/25\n",
            "21/21 - 24s - loss: 0.5969 - accuracy: 0.6737 - val_loss: 0.5850 - val_accuracy: 0.7048 - 24s/epoch - 1s/step\n",
            "Epoch 8/25\n",
            "21/21 - 22s - loss: 0.6143 - accuracy: 0.6586 - val_loss: 0.5463 - val_accuracy: 0.7410 - 22s/epoch - 1s/step\n",
            "Epoch 9/25\n",
            "21/21 - 24s - loss: 0.6020 - accuracy: 0.6752 - val_loss: 0.5324 - val_accuracy: 0.7289 - 24s/epoch - 1s/step\n",
            "Epoch 10/25\n",
            "21/21 - 24s - loss: 0.6075 - accuracy: 0.6812 - val_loss: 0.5455 - val_accuracy: 0.7349 - 24s/epoch - 1s/step\n",
            "Epoch 11/25\n",
            "21/21 - 23s - loss: 0.6055 - accuracy: 0.6722 - val_loss: 0.5631 - val_accuracy: 0.7229 - 23s/epoch - 1s/step\n",
            "Epoch 12/25\n",
            "21/21 - 24s - loss: 0.6104 - accuracy: 0.6617 - val_loss: 0.6038 - val_accuracy: 0.6867 - 24s/epoch - 1s/step\n",
            "Epoch 13/25\n",
            "21/21 - 24s - loss: 0.6075 - accuracy: 0.6737 - val_loss: 0.5350 - val_accuracy: 0.7229 - 24s/epoch - 1s/step\n",
            "Epoch 14/25\n",
            "21/21 - 24s - loss: 0.6027 - accuracy: 0.6827 - val_loss: 0.5844 - val_accuracy: 0.7108 - 24s/epoch - 1s/step\n",
            "Epoch 15/25\n",
            "21/21 - 22s - loss: 0.6168 - accuracy: 0.6511 - val_loss: 0.5844 - val_accuracy: 0.6747 - 22s/epoch - 1s/step\n",
            "Epoch 16/25\n",
            "21/21 - 24s - loss: 0.5937 - accuracy: 0.6737 - val_loss: 0.5642 - val_accuracy: 0.7169 - 24s/epoch - 1s/step\n",
            "Epoch 17/25\n",
            "21/21 - 22s - loss: 0.6113 - accuracy: 0.6602 - val_loss: 0.5622 - val_accuracy: 0.7410 - 22s/epoch - 1s/step\n",
            "Epoch 18/25\n",
            "21/21 - 24s - loss: 0.6022 - accuracy: 0.6872 - val_loss: 0.5823 - val_accuracy: 0.6446 - 24s/epoch - 1s/step\n",
            "Epoch 19/25\n",
            "21/21 - 24s - loss: 0.6117 - accuracy: 0.6692 - val_loss: 0.5726 - val_accuracy: 0.7349 - 24s/epoch - 1s/step\n",
            "Epoch 20/25\n",
            "21/21 - 26s - loss: 0.6118 - accuracy: 0.6421 - val_loss: 0.5544 - val_accuracy: 0.7169 - 26s/epoch - 1s/step\n",
            "Epoch 21/25\n",
            "21/21 - 22s - loss: 0.5864 - accuracy: 0.6677 - val_loss: 0.5496 - val_accuracy: 0.7169 - 22s/epoch - 1s/step\n",
            "Epoch 22/25\n",
            "21/21 - 24s - loss: 0.5947 - accuracy: 0.6617 - val_loss: 0.5950 - val_accuracy: 0.6747 - 24s/epoch - 1s/step\n",
            "Epoch 23/25\n",
            "21/21 - 24s - loss: 0.5944 - accuracy: 0.6812 - val_loss: 0.5456 - val_accuracy: 0.7349 - 24s/epoch - 1s/step\n",
            "Epoch 24/25\n",
            "21/21 - 22s - loss: 0.5816 - accuracy: 0.6977 - val_loss: 0.5699 - val_accuracy: 0.7289 - 22s/epoch - 1s/step\n",
            "Epoch 25/25\n",
            "21/21 - 24s - loss: 0.5758 - accuracy: 0.7008 - val_loss: 0.5578 - val_accuracy: 0.7349 - 24s/epoch - 1s/step\n",
            "6/6 [==============================] - 5s 888ms/step\n",
            "*** Performance on Validation data ***\n",
            "Accuracy  : 0.7349397590361446\n",
            "Precision : 0.7361739384211294\n",
            "f1Score : 0.734593023255814\n",
            "[[64 19]\n",
            " [25 58]]\n",
            "Results for fold: 3\n",
            "Found 665 validated image filenames belonging to 2 classes.\n",
            "Found 166 validated image filenames belonging to 2 classes.\n",
            "Epoch 1/25\n",
            "21/21 - 23s - loss: 0.5755 - accuracy: 0.6917 - val_loss: 0.5032 - val_accuracy: 0.7349 - 23s/epoch - 1s/step\n",
            "Epoch 2/25\n",
            "21/21 - 24s - loss: 0.5972 - accuracy: 0.6647 - val_loss: 0.5680 - val_accuracy: 0.7470 - 24s/epoch - 1s/step\n",
            "Epoch 3/25\n",
            "21/21 - 26s - loss: 0.6159 - accuracy: 0.6617 - val_loss: 0.5369 - val_accuracy: 0.7229 - 26s/epoch - 1s/step\n",
            "Epoch 4/25\n",
            "21/21 - 23s - loss: 0.6023 - accuracy: 0.6586 - val_loss: 0.5162 - val_accuracy: 0.7349 - 23s/epoch - 1s/step\n",
            "Epoch 5/25\n",
            "21/21 - 23s - loss: 0.5772 - accuracy: 0.6842 - val_loss: 0.5003 - val_accuracy: 0.7349 - 23s/epoch - 1s/step\n",
            "Epoch 6/25\n",
            "21/21 - 23s - loss: 0.5754 - accuracy: 0.6857 - val_loss: 0.5075 - val_accuracy: 0.7169 - 23s/epoch - 1s/step\n",
            "Epoch 7/25\n",
            "21/21 - 24s - loss: 0.5723 - accuracy: 0.6902 - val_loss: 0.5036 - val_accuracy: 0.7289 - 24s/epoch - 1s/step\n",
            "Epoch 8/25\n",
            "21/21 - 24s - loss: 0.5793 - accuracy: 0.6827 - val_loss: 0.5011 - val_accuracy: 0.7349 - 24s/epoch - 1s/step\n",
            "Epoch 9/25\n",
            "21/21 - 23s - loss: 0.5799 - accuracy: 0.6556 - val_loss: 0.5134 - val_accuracy: 0.7470 - 23s/epoch - 1s/step\n",
            "Epoch 10/25\n",
            "21/21 - 23s - loss: 0.5701 - accuracy: 0.6962 - val_loss: 0.5283 - val_accuracy: 0.7229 - 23s/epoch - 1s/step\n",
            "Epoch 11/25\n",
            "21/21 - 22s - loss: 0.5614 - accuracy: 0.7038 - val_loss: 0.4980 - val_accuracy: 0.7410 - 22s/epoch - 1s/step\n",
            "Epoch 12/25\n",
            "21/21 - 24s - loss: 0.5847 - accuracy: 0.6872 - val_loss: 0.5103 - val_accuracy: 0.7169 - 24s/epoch - 1s/step\n",
            "Epoch 13/25\n",
            "21/21 - 24s - loss: 0.5536 - accuracy: 0.7128 - val_loss: 0.4976 - val_accuracy: 0.7590 - 24s/epoch - 1s/step\n",
            "Epoch 14/25\n",
            "21/21 - 24s - loss: 0.5693 - accuracy: 0.6947 - val_loss: 0.5301 - val_accuracy: 0.7048 - 24s/epoch - 1s/step\n",
            "Epoch 15/25\n",
            "21/21 - 29s - loss: 0.5753 - accuracy: 0.6782 - val_loss: 0.4960 - val_accuracy: 0.7530 - 29s/epoch - 1s/step\n",
            "Epoch 16/25\n",
            "21/21 - 24s - loss: 0.5578 - accuracy: 0.7143 - val_loss: 0.5058 - val_accuracy: 0.7590 - 24s/epoch - 1s/step\n",
            "Epoch 17/25\n",
            "21/21 - 23s - loss: 0.5738 - accuracy: 0.6887 - val_loss: 0.5125 - val_accuracy: 0.7530 - 23s/epoch - 1s/step\n",
            "Epoch 18/25\n",
            "21/21 - 24s - loss: 0.5454 - accuracy: 0.7083 - val_loss: 0.4863 - val_accuracy: 0.7410 - 24s/epoch - 1s/step\n",
            "Epoch 19/25\n",
            "21/21 - 22s - loss: 0.5562 - accuracy: 0.6917 - val_loss: 0.5255 - val_accuracy: 0.7108 - 22s/epoch - 1s/step\n",
            "Epoch 20/25\n",
            "21/21 - 23s - loss: 0.5602 - accuracy: 0.6797 - val_loss: 0.5048 - val_accuracy: 0.7711 - 23s/epoch - 1s/step\n",
            "Epoch 21/25\n",
            "21/21 - 23s - loss: 0.5931 - accuracy: 0.6617 - val_loss: 0.5335 - val_accuracy: 0.7169 - 23s/epoch - 1s/step\n",
            "Epoch 22/25\n",
            "21/21 - 23s - loss: 0.5399 - accuracy: 0.7068 - val_loss: 0.4864 - val_accuracy: 0.7590 - 23s/epoch - 1s/step\n",
            "Epoch 23/25\n",
            "21/21 - 24s - loss: 0.5594 - accuracy: 0.7008 - val_loss: 0.4888 - val_accuracy: 0.7410 - 24s/epoch - 1s/step\n",
            "Epoch 24/25\n",
            "21/21 - 24s - loss: 0.5673 - accuracy: 0.7053 - val_loss: 0.5116 - val_accuracy: 0.7289 - 24s/epoch - 1s/step\n",
            "Epoch 25/25\n",
            "21/21 - 24s - loss: 0.5513 - accuracy: 0.7143 - val_loss: 0.5016 - val_accuracy: 0.7229 - 24s/epoch - 1s/step\n",
            "6/6 [==============================] - 5s 874ms/step\n",
            "*** Performance on Validation data ***\n",
            "Accuracy  : 0.7228915662650602\n",
            "Precision : 0.7234104466753964\n",
            "f1Score : 0.7227305737109658\n",
            "[[58 25]\n",
            " [21 62]]\n",
            "Results for fold: 4\n",
            "Found 665 validated image filenames belonging to 2 classes.\n",
            "Found 166 validated image filenames belonging to 2 classes.\n",
            "Epoch 1/25\n",
            "21/21 - 24s - loss: 0.5662 - accuracy: 0.7038 - val_loss: 0.4847 - val_accuracy: 0.7711 - 24s/epoch - 1s/step\n",
            "Epoch 2/25\n",
            "21/21 - 25s - loss: 0.5300 - accuracy: 0.7098 - val_loss: 0.5226 - val_accuracy: 0.7711 - 25s/epoch - 1s/step\n",
            "Epoch 3/25\n",
            "21/21 - 22s - loss: 0.5704 - accuracy: 0.6872 - val_loss: 0.5287 - val_accuracy: 0.7711 - 22s/epoch - 1s/step\n",
            "Epoch 4/25\n",
            "21/21 - 22s - loss: 0.5332 - accuracy: 0.7188 - val_loss: 0.5248 - val_accuracy: 0.7048 - 22s/epoch - 1s/step\n",
            "Epoch 5/25\n",
            "21/21 - 23s - loss: 0.5535 - accuracy: 0.7143 - val_loss: 0.5849 - val_accuracy: 0.7470 - 23s/epoch - 1s/step\n",
            "Epoch 6/25\n",
            "21/21 - 23s - loss: 0.5541 - accuracy: 0.7068 - val_loss: 0.5248 - val_accuracy: 0.6867 - 23s/epoch - 1s/step\n",
            "Epoch 7/25\n",
            "21/21 - 23s - loss: 0.5338 - accuracy: 0.7353 - val_loss: 0.5071 - val_accuracy: 0.7831 - 23s/epoch - 1s/step\n",
            "Epoch 8/25\n",
            "21/21 - 23s - loss: 0.5372 - accuracy: 0.7414 - val_loss: 0.5109 - val_accuracy: 0.7349 - 23s/epoch - 1s/step\n",
            "Epoch 9/25\n",
            "21/21 - 22s - loss: 0.5682 - accuracy: 0.6812 - val_loss: 0.5646 - val_accuracy: 0.7169 - 22s/epoch - 1s/step\n",
            "Epoch 10/25\n",
            "21/21 - 23s - loss: 0.5558 - accuracy: 0.6857 - val_loss: 0.5330 - val_accuracy: 0.7229 - 23s/epoch - 1s/step\n",
            "Epoch 11/25\n",
            "21/21 - 23s - loss: 0.5498 - accuracy: 0.7023 - val_loss: 0.5243 - val_accuracy: 0.6867 - 23s/epoch - 1s/step\n",
            "Epoch 12/25\n",
            "21/21 - 23s - loss: 0.5524 - accuracy: 0.7053 - val_loss: 0.5397 - val_accuracy: 0.7771 - 23s/epoch - 1s/step\n",
            "Epoch 13/25\n",
            "21/21 - 23s - loss: 0.5479 - accuracy: 0.7203 - val_loss: 0.5280 - val_accuracy: 0.7711 - 23s/epoch - 1s/step\n",
            "Epoch 14/25\n",
            "21/21 - 25s - loss: 0.5547 - accuracy: 0.7188 - val_loss: 0.5166 - val_accuracy: 0.7651 - 25s/epoch - 1s/step\n",
            "Epoch 15/25\n",
            "21/21 - 22s - loss: 0.5402 - accuracy: 0.7008 - val_loss: 0.4995 - val_accuracy: 0.8012 - 22s/epoch - 1s/step\n",
            "Epoch 16/25\n",
            "21/21 - 23s - loss: 0.5375 - accuracy: 0.7143 - val_loss: 0.5421 - val_accuracy: 0.7530 - 23s/epoch - 1s/step\n",
            "Epoch 17/25\n",
            "21/21 - 23s - loss: 0.5236 - accuracy: 0.7068 - val_loss: 0.5452 - val_accuracy: 0.7349 - 23s/epoch - 1s/step\n",
            "Epoch 18/25\n",
            "21/21 - 22s - loss: 0.5454 - accuracy: 0.7158 - val_loss: 0.5134 - val_accuracy: 0.7892 - 22s/epoch - 1s/step\n",
            "Epoch 19/25\n",
            "21/21 - 23s - loss: 0.5218 - accuracy: 0.7218 - val_loss: 0.5297 - val_accuracy: 0.7108 - 23s/epoch - 1s/step\n",
            "Epoch 20/25\n",
            "21/21 - 22s - loss: 0.5232 - accuracy: 0.7353 - val_loss: 0.5338 - val_accuracy: 0.7590 - 22s/epoch - 1s/step\n",
            "Epoch 21/25\n",
            "21/21 - 23s - loss: 0.5195 - accuracy: 0.7158 - val_loss: 0.5138 - val_accuracy: 0.8012 - 23s/epoch - 1s/step\n",
            "Epoch 22/25\n",
            "21/21 - 22s - loss: 0.5305 - accuracy: 0.7323 - val_loss: 0.5030 - val_accuracy: 0.7470 - 22s/epoch - 1s/step\n",
            "Epoch 23/25\n",
            "21/21 - 25s - loss: 0.5027 - accuracy: 0.7549 - val_loss: 0.5058 - val_accuracy: 0.7771 - 25s/epoch - 1s/step\n",
            "Epoch 24/25\n",
            "21/21 - 22s - loss: 0.5307 - accuracy: 0.7128 - val_loss: 0.5401 - val_accuracy: 0.7530 - 22s/epoch - 1s/step\n",
            "Epoch 25/25\n",
            "21/21 - 23s - loss: 0.5400 - accuracy: 0.7038 - val_loss: 0.5723 - val_accuracy: 0.7289 - 23s/epoch - 1s/step\n",
            "6/6 [==============================] - 5s 777ms/step\n",
            "*** Performance on Validation data ***\n",
            "Accuracy  : 0.7289156626506024\n",
            "Precision : 0.7846283204443116\n",
            "f1Score : 0.7138907078284329\n",
            "[[41 41]\n",
            " [ 4 80]]\n",
            "Results for fold: 5\n",
            "Found 665 validated image filenames belonging to 2 classes.\n",
            "Found 166 validated image filenames belonging to 2 classes.\n",
            "Epoch 1/25\n",
            "21/21 - 24s - loss: 0.5400 - accuracy: 0.7338 - val_loss: 0.5620 - val_accuracy: 0.7229 - 24s/epoch - 1s/step\n",
            "Epoch 2/25\n",
            "21/21 - 23s - loss: 0.5346 - accuracy: 0.7233 - val_loss: 0.5646 - val_accuracy: 0.7048 - 23s/epoch - 1s/step\n",
            "Epoch 3/25\n",
            "21/21 - 23s - loss: 0.5726 - accuracy: 0.6812 - val_loss: 0.6556 - val_accuracy: 0.6145 - 23s/epoch - 1s/step\n",
            "Epoch 4/25\n",
            "21/21 - 22s - loss: 0.5354 - accuracy: 0.7338 - val_loss: 0.5485 - val_accuracy: 0.6867 - 22s/epoch - 1s/step\n",
            "Epoch 5/25\n",
            "21/21 - 23s - loss: 0.5296 - accuracy: 0.7113 - val_loss: 0.5431 - val_accuracy: 0.6807 - 23s/epoch - 1s/step\n",
            "Epoch 6/25\n",
            "21/21 - 23s - loss: 0.5004 - accuracy: 0.7504 - val_loss: 0.5764 - val_accuracy: 0.7108 - 23s/epoch - 1s/step\n",
            "Epoch 7/25\n",
            "21/21 - 25s - loss: 0.5210 - accuracy: 0.7278 - val_loss: 0.5709 - val_accuracy: 0.7048 - 25s/epoch - 1s/step\n",
            "Epoch 8/25\n",
            "21/21 - 23s - loss: 0.4869 - accuracy: 0.7699 - val_loss: 0.5579 - val_accuracy: 0.6807 - 23s/epoch - 1s/step\n",
            "Epoch 9/25\n",
            "21/21 - 22s - loss: 0.5189 - accuracy: 0.7263 - val_loss: 0.5960 - val_accuracy: 0.6928 - 22s/epoch - 1s/step\n",
            "Epoch 10/25\n",
            "21/21 - 24s - loss: 0.5127 - accuracy: 0.7398 - val_loss: 0.5765 - val_accuracy: 0.7108 - 24s/epoch - 1s/step\n",
            "Epoch 11/25\n",
            "21/21 - 23s - loss: 0.5210 - accuracy: 0.7383 - val_loss: 0.5645 - val_accuracy: 0.6928 - 23s/epoch - 1s/step\n",
            "Epoch 12/25\n",
            "21/21 - 23s - loss: 0.5300 - accuracy: 0.7173 - val_loss: 0.5583 - val_accuracy: 0.7169 - 23s/epoch - 1s/step\n",
            "Epoch 13/25\n",
            "21/21 - 24s - loss: 0.4986 - accuracy: 0.7398 - val_loss: 0.5697 - val_accuracy: 0.6807 - 24s/epoch - 1s/step\n",
            "Epoch 14/25\n",
            "21/21 - 25s - loss: 0.5286 - accuracy: 0.7474 - val_loss: 0.5655 - val_accuracy: 0.7048 - 25s/epoch - 1s/step\n",
            "Epoch 15/25\n",
            "21/21 - 24s - loss: 0.5413 - accuracy: 0.7068 - val_loss: 0.5592 - val_accuracy: 0.6807 - 24s/epoch - 1s/step\n",
            "Epoch 16/25\n",
            "21/21 - 23s - loss: 0.5082 - accuracy: 0.7459 - val_loss: 0.6473 - val_accuracy: 0.6265 - 23s/epoch - 1s/step\n",
            "Epoch 17/25\n",
            "21/21 - 24s - loss: 0.4905 - accuracy: 0.7459 - val_loss: 0.5806 - val_accuracy: 0.7229 - 24s/epoch - 1s/step\n",
            "Epoch 18/25\n",
            "21/21 - 22s - loss: 0.4945 - accuracy: 0.7459 - val_loss: 0.5910 - val_accuracy: 0.6747 - 22s/epoch - 1s/step\n",
            "Epoch 19/25\n",
            "21/21 - 22s - loss: 0.5047 - accuracy: 0.7489 - val_loss: 0.6298 - val_accuracy: 0.7229 - 22s/epoch - 1s/step\n",
            "Epoch 20/25\n",
            "21/21 - 24s - loss: 0.5090 - accuracy: 0.7474 - val_loss: 0.5750 - val_accuracy: 0.6807 - 24s/epoch - 1s/step\n",
            "Epoch 21/25\n",
            "21/21 - 25s - loss: 0.5223 - accuracy: 0.7383 - val_loss: 0.5882 - val_accuracy: 0.6807 - 25s/epoch - 1s/step\n",
            "Epoch 22/25\n",
            "21/21 - 24s - loss: 0.4711 - accuracy: 0.7714 - val_loss: 0.5529 - val_accuracy: 0.7349 - 24s/epoch - 1s/step\n",
            "Epoch 23/25\n",
            "21/21 - 23s - loss: 0.5212 - accuracy: 0.7308 - val_loss: 0.5634 - val_accuracy: 0.6928 - 23s/epoch - 1s/step\n",
            "Epoch 24/25\n",
            "21/21 - 25s - loss: 0.4979 - accuracy: 0.7564 - val_loss: 0.5732 - val_accuracy: 0.6687 - 25s/epoch - 1s/step\n",
            "Epoch 25/25\n",
            "21/21 - 23s - loss: 0.4899 - accuracy: 0.7429 - val_loss: 0.5787 - val_accuracy: 0.6988 - 23s/epoch - 1s/step\n",
            "6/6 [==============================] - 4s 630ms/step\n",
            "*** Performance on Validation data ***\n",
            "Accuracy  : 0.6987951807228916\n",
            "Precision : 0.6988231997758476\n",
            "f1Score : 0.6987076847695795\n",
            "[[56 26]\n",
            " [24 60]]\n"
          ]
        }
      ],
      "source": [
        "class_labels = [cataract_dir, normal_dir]\n",
        "skf = StratifiedKFold(n_splits=5, shuffle=True)\n",
        "\n",
        "fold_num = 0\n",
        "test_losses = []\n",
        "test_accuracies = []\n",
        "confusion_matrices = []\n",
        "\n",
        "for train_index, val_index in skf.split(train_val_paths, train_val_labels):\n",
        "    fold_num += 1\n",
        "    print(\"Results for fold:\", fold_num)\n",
        "    X_train, X_val = np.array(train_val_paths)[train_index], np.array(train_val_paths)[val_index]\n",
        "    Y_train, Y_val = np.array(train_val_labels)[train_index], np.array(train_val_labels)[val_index]\n",
        "\n",
        "    Y_train = Y_train.astype(str)\n",
        "    Y_val = Y_val.astype(str)\n",
        "\n",
        "    for each_index in range(len(X_val)):\n",
        "        class_label = ''\n",
        "        for i in range(len(class_labels)):\n",
        "            if Y_val[each_index] == str(i):\n",
        "                class_label = class_labels[i]\n",
        "        shutil.move(\n",
        "            os.path.join(base_dir, 'latih', class_label, X_val[each_index]),\n",
        "            os.path.join(base_dir, 'validasi', class_label, X_val[each_index])\n",
        "        )\n",
        "\n",
        "    train_datagen = ImageDataGenerator(\n",
        "        rescale=1./225,\n",
        "        brightness_range=[0.5, 1.0],\n",
        "        horizontal_flip=True,\n",
        "        vertical_flip=True,\n",
        "        shear_range=0.2,\n",
        "        rotation_range=45,\n",
        "        fill_mode='mirror',\n",
        "    )\n",
        "\n",
        "    train_generator = train_datagen.flow_from_dataframe(\n",
        "        pd.DataFrame({\"image_path\": X_train, \"label\": Y_train}),\n",
        "        x_col=\"image_path\",\n",
        "        y_col=\"label\",\n",
        "        target_size=(100, 150),\n",
        "        batch_size=32,\n",
        "        class_mode=\"categorical\",\n",
        "        shuffle=True\n",
        "    )\n",
        "\n",
        "    val_datagen = ImageDataGenerator(rescale=1./225)\n",
        "\n",
        "    val_generator = val_datagen.flow_from_dataframe(\n",
        "        pd.DataFrame({\"image_path\": X_val, \"label\": Y_val}),\n",
        "        x_col=\"image_path\",\n",
        "        y_col=\"label\",\n",
        "        target_size=(100, 150),\n",
        "        batch_size=32,\n",
        "        class_mode=\"categorical\",\n",
        "        shuffle=False\n",
        "    )\n",
        "\n",
        "    # Training Model\n",
        "    history = model.fit(\n",
        "        train_generator,\n",
        "        epochs=25,\n",
        "        steps_per_epoch=len(train_generator),\n",
        "        validation_data=val_generator,\n",
        "        validation_steps=len(val_generator),\n",
        "        verbose=2\n",
        "    )\n",
        "\n",
        "    predictions = model.predict(val_generator, verbose=1)\n",
        "    y_predictions = np.argmax(predictions, axis=1)\n",
        "    true_classes = val_generator.classes\n",
        "\n",
        "    # evaluate validation performance\n",
        "    print(\"*** Performance on Validation data ***\")\n",
        "    val_acc, val_prec, val_fScore = my_metrics(true_classes, y_predictions)"
      ]
    },
    {
      "cell_type": "markdown",
      "metadata": {
        "id": "0qLOp3MeQxy9"
      },
      "source": [
        "# Report Hasil Training"
      ]
    },
    {
      "cell_type": "code",
      "execution_count": null,
      "metadata": {
        "colab": {
          "base_uri": "https://localhost:8080/"
        },
        "id": "5DcmlVxZQ2_T",
        "outputId": "c5c2b27a-5353-455a-8a2f-bb64ec1bb5a1"
      },
      "outputs": [
        {
          "output_type": "stream",
          "name": "stdout",
          "text": [
            "*** Classification Report ***\n",
            "              precision    recall  f1-score   support\n",
            "\n",
            "    cataract       1.00      0.24      0.39        82\n",
            "      normal       0.58      1.00      0.73        84\n",
            "\n",
            "    accuracy                           0.63       166\n",
            "   macro avg       0.79      0.62      0.56       166\n",
            "weighted avg       0.79      0.63      0.56       166\n",
            "\n"
          ]
        }
      ],
      "source": [
        "print(\"*** Classification Report ***\")\n",
        "clr = classification_report(true_classes, y_predictions, target_names=['cataract', 'normal'])\n",
        "print(clr)"
      ]
    },
    {
      "cell_type": "markdown",
      "metadata": {
        "id": "6HdmhXCj3ROr"
      },
      "source": [
        "#Testing Model"
      ]
    },
    {
      "cell_type": "code",
      "execution_count": null,
      "metadata": {
        "colab": {
          "base_uri": "https://localhost:8080/"
        },
        "id": "2lrsr_093Xau",
        "outputId": "e9e9c396-9666-4a60-c5f4-1efa811401fa"
      },
      "outputs": [
        {
          "output_type": "stream",
          "name": "stdout",
          "text": [
            "Results for fold :  1\n",
            "Found 167 validated image filenames belonging to 2 classes.\n",
            "6/6 [==============================] - 5s 691ms/step - loss: 0.4926 - accuracy: 0.7725\n",
            "6/6 [==============================] - 4s 604ms/step\n",
            "*** Performance on Validation data ***\n",
            "Accuracy  : 0.7724550898203593\n",
            "Precision : 0.7725788732612294\n",
            "f1Score : 0.7724061203274942\n",
            "[[63 20]\n",
            " [18 66]]\n",
            "Results for fold :  2\n",
            "Found 166 validated image filenames belonging to 2 classes.\n",
            "6/6 [==============================] - 4s 680ms/step - loss: 0.4814 - accuracy: 0.7229\n",
            "6/6 [==============================] - 4s 600ms/step\n",
            "*** Performance on Validation data ***\n",
            "Accuracy  : 0.7228915662650602\n",
            "Precision : 0.7234104466753964\n",
            "f1Score : 0.7227305737109658\n",
            "[[58 25]\n",
            " [21 62]]\n",
            "Results for fold :  3\n",
            "Found 166 validated image filenames belonging to 2 classes.\n",
            "6/6 [==============================] - 4s 580ms/step - loss: 0.4791 - accuracy: 0.8434\n",
            "6/6 [==============================] - 5s 850ms/step\n",
            "*** Performance on Validation data ***\n",
            "Accuracy  : 0.8433734939759037\n",
            "Precision : 0.8433734939759037\n",
            "f1Score : 0.8433734939759037\n",
            "[[70 13]\n",
            " [13 70]]\n",
            "Results for fold :  4\n",
            "Found 166 validated image filenames belonging to 2 classes.\n",
            "6/6 [==============================] - 4s 572ms/step - loss: 0.5147 - accuracy: 0.7651\n",
            "6/6 [==============================] - 4s 589ms/step\n",
            "*** Performance on Validation data ***\n",
            "Accuracy  : 0.7650602409638554\n",
            "Precision : 0.76513282043838\n",
            "f1Score : 0.7650687671753973\n",
            "[[63 19]\n",
            " [20 64]]\n",
            "Results for fold :  5\n",
            "Found 166 validated image filenames belonging to 2 classes.\n",
            "6/6 [==============================] - 5s 779ms/step - loss: 0.4812 - accuracy: 0.7229\n",
            "6/6 [==============================] - 4s 571ms/step\n",
            "*** Performance on Validation data ***\n",
            "Accuracy  : 0.7228915662650602\n",
            "Precision : 0.7228915662650602\n",
            "f1Score : 0.7228915662650602\n",
            "[[59 23]\n",
            " [23 61]]\n"
          ]
        }
      ],
      "source": [
        "class_labels = [cataract_dir, normal_dir]\n",
        "skf = StratifiedKFold(n_splits=5, shuffle=True)\n",
        "\n",
        "fold_num = 0\n",
        "test_losses = []\n",
        "test_accuracies = []\n",
        "confusion_matrices = []\n",
        "\n",
        "for train_index, test_index in skf.split(train_val_paths, train_val_labels):\n",
        "    fold_num += 1\n",
        "    print(\"Results for fold : \", fold_num)\n",
        "    X_train, X_test = np.array(train_val_paths)[train_index], np.array(train_val_paths)[test_index]\n",
        "    Y_train, Y_test = np.array(train_val_labels)[train_index], np.array(train_val_labels)[test_index]\n",
        "\n",
        "    for each_index in range(len(X_test)):\n",
        "        class_label = ''\n",
        "        for i in range(len(class_labels)):\n",
        "            if Y_test[each_index] == str(i):\n",
        "                class_label = class_labels[i]\n",
        "        shutil.move(\n",
        "            os.path.join(base_dir, 'latih', class_label, X_test[each_index]),\n",
        "            os.path.join(base_dir, 'test', class_label, X_test[each_index])\n",
        "        )\n",
        "\n",
        "    test_datagen = ImageDataGenerator(rescale=1./225)\n",
        "    test_labels = [str(label) for label in Y_test]\n",
        "\n",
        "    test_generator = test_datagen.flow_from_dataframe(\n",
        "        pd.DataFrame({'image_path': X_test, 'label': test_labels}),\n",
        "        x_col='image_path',\n",
        "        y_col='label',\n",
        "        target_size=(100, 150),\n",
        "        batch_size=32,\n",
        "        class_mode='categorical',\n",
        "        shuffle=False\n",
        "    )\n",
        "\n",
        "    test_loss, test_acc = model.evaluate(\n",
        "        test_generator,\n",
        "        steps=len(test_generator),\n",
        "        verbose=1\n",
        "    )\n",
        "\n",
        "    test_losses.append(test_loss)\n",
        "    test_accuracies.append(test_acc)\n",
        "\n",
        "    predictions = model.predict(test_generator, verbose=1)\n",
        "    y_predictions = np.argmax(predictions, axis=1)\n",
        "    true_classes = test_generator.classes\n",
        "\n",
        "    # evaluate validation performance\n",
        "    print(\"*** Performance on Validation data ***\")\n",
        "    val_acc, val_prec, val_fScore = my_metrics(true_classes, y_predictions)\n",
        "    confusion_matrices.append(confusion_matrix(true_classes, y_predictions))"
      ]
    },
    {
      "cell_type": "markdown",
      "metadata": {
        "id": "yyZV3cDTaRxx"
      },
      "source": [
        "# Report Hasil Testing"
      ]
    },
    {
      "cell_type": "code",
      "execution_count": null,
      "metadata": {
        "colab": {
          "base_uri": "https://localhost:8080/"
        },
        "id": "K0ReTL1yKh0D",
        "outputId": "7c931597-71b3-40da-d030-8d87b0db032c"
      },
      "outputs": [
        {
          "output_type": "stream",
          "name": "stdout",
          "text": [
            "*** Classification Report ***\n",
            "              precision    recall  f1-score   support\n",
            "\n",
            "    cataract       1.00      0.16      0.27        82\n",
            "      normal       0.55      1.00      0.71        84\n",
            "\n",
            "    accuracy                           0.58       166\n",
            "   macro avg       0.77      0.58      0.49       166\n",
            "weighted avg       0.77      0.58      0.49       166\n",
            "\n"
          ]
        }
      ],
      "source": [
        "print(\"*** Classification Report ***\")\n",
        "clr = classification_report(true_classes, y_predictions, target_names=['cataract', 'normal'])\n",
        "print(clr)"
      ]
    }
  ],
  "metadata": {
    "colab": {
      "provenance": [],
      "gpuType": "T4",
      "mount_file_id": "1D4g9J-3n8r0kHDmJQqF3iHBfXu4O-_Wi",
      "authorship_tag": "ABX9TyN6DEddZNXwK68CoI30PTTA",
      "include_colab_link": true
    },
    "kernelspec": {
      "display_name": "Python 3",
      "name": "python3"
    },
    "language_info": {
      "name": "python"
    },
    "accelerator": "GPU"
  },
  "nbformat": 4,
  "nbformat_minor": 0
}