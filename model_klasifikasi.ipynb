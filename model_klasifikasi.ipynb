{
  "cells": [
    {
      "cell_type": "markdown",
      "metadata": {
        "id": "view-in-github",
        "colab_type": "text"
      },
      "source": [
        "<a href=\"https://colab.research.google.com/github/murmayasa/murmayasa/blob/main/model_klasifikasi.ipynb\" target=\"_parent\"><img src=\"https://colab.research.google.com/assets/colab-badge.svg\" alt=\"Open In Colab\"/></a>"
      ]
    },
    {
      "cell_type": "markdown",
      "metadata": {
        "id": "rhfdl5NBHqE9"
      },
      "source": [
        "# Import Library"
      ]
    },
    {
      "cell_type": "code",
      "execution_count": null,
      "metadata": {
        "colab": {
          "base_uri": "https://localhost:8080/"
        },
        "id": "6cQm8ydOHvEn",
        "outputId": "9cabb52d-e06e-47f9-d998-efdbf3facc20"
      },
      "outputs": [
        {
          "output_type": "execute_result",
          "data": {
            "text/plain": [
              "keras.optimizers.adam.Adam"
            ]
          },
          "metadata": {},
          "execution_count": 1
        }
      ],
      "source": [
        "import tensorflow as tf\n",
        "import numpy as np\n",
        "import os\n",
        "import shutil\n",
        "import matplotlib.pyplot as plt\n",
        "import random\n",
        "import pandas as pd\n",
        "from tensorflow.keras.preprocessing.image import ImageDataGenerator\n",
        "from tensorflow import keras\n",
        "from sklearn.model_selection import train_test_split, StratifiedKFold\n",
        "from sklearn.metrics import confusion_matrix, accuracy_score, f1_score, precision_score, classification_report\n",
        "from sklearn.utils import shuffle\n",
        "keras.optimizers.Adam"
      ]
    },
    {
      "cell_type": "markdown",
      "metadata": {
        "id": "rXEONerwAy0s"
      },
      "source": [
        "# Mengakses Dataset"
      ]
    },
    {
      "cell_type": "code",
      "execution_count": null,
      "metadata": {
        "colab": {
          "base_uri": "https://localhost:8080/"
        },
        "id": "GSCR3u_yMRU3",
        "outputId": "19de1adc-c3e5-4c27-c50b-81cef022cd0f"
      },
      "outputs": [
        {
          "output_type": "stream",
          "name": "stdout",
          "text": [
            "Drive already mounted at /content/drive/; to attempt to forcibly remount, call drive.mount(\"/content/drive/\", force_remount=True).\n",
            "cataract  normal\n",
            "      Kelas  Jumlah Data\n",
            "0  cataract         1038\n",
            "1    normal         1074\n"
          ]
        }
      ],
      "source": [
        "from google.colab import drive\n",
        "drive.mount('/content/drive/')\n",
        "base_dir = '/content/drive/My Drive/SEMINAR_MURMAYASA 19101032/Projek/dataset/dataset 1'\n",
        "!ls \"/content/drive/My Drive/SEMINAR_MURMAYASA 19101032/Projek/dataset/dataset 1\"\n",
        "\n",
        "dataset_files = os.listdir(base_dir)\n",
        "class_counts = []\n",
        "class_labels = []\n",
        "\n",
        "for class_dir in dataset_files:\n",
        "    class_path = os.path.join(base_dir, class_dir)\n",
        "    if os.path.isdir(class_path):\n",
        "        class_count = len(os.listdir(class_path))\n",
        "        class_counts.append(class_count)\n",
        "        class_labels.append(class_dir)\n",
        "\n",
        "data = {'Kelas': class_labels, 'Jumlah Data': class_counts}\n",
        "df = pd.DataFrame(data)\n",
        "print(df)"
      ]
    },
    {
      "cell_type": "markdown",
      "metadata": {
        "id": "MyyJpXk1SBMz"
      },
      "source": [
        "# Menampilkan jumlah dataset"
      ]
    },
    {
      "cell_type": "code",
      "execution_count": null,
      "metadata": {
        "colab": {
          "base_uri": "https://localhost:8080/",
          "height": 576
        },
        "id": "UqxBZEiUSCr_",
        "outputId": "d66fe19b-d12f-4941-b6e4-e456c123e65a"
      },
      "outputs": [
        {
          "output_type": "stream",
          "name": "stdout",
          "text": [
            "Jumlah data setiap kelas\n",
            "Jumlah dataset Cataract :  516\n",
            "Jumlah dataset Normal :  523\n"
          ]
        },
        {
          "output_type": "display_data",
          "data": {
            "text/plain": [
              "<Figure size 640x480 with 1 Axes>"
            ],
            "image/png": "[encoded data removed]"
          },
          "metadata": {}
        },
        {
          "output_type": "stream",
          "name": "stdout",
          "text": [
            "      Kelas  Jumlah Data\n",
            "0  Cataract          516\n",
            "1    Normal          523\n"
          ]
        }
      ],
      "source": [
        "cataract_dir = os.path.join(base_dir, 'cataract/')\n",
        "normal_dir = os.path.join(base_dir, 'normal/')\n",
        "\n",
        "print(\"Jumlah data setiap kelas\")\n",
        "print('Jumlah dataset Cataract : ',len(os.listdir(cataract_dir)))\n",
        "print('Jumlah dataset Normal : ',len(os.listdir(normal_dir)))\n",
        "num_cataract = len(os.listdir(cataract_dir))\n",
        "num_normal = len(os.listdir(normal_dir))\n",
        "\n",
        "# Menampilkan diagram jumlah\n",
        "labels = ['Cataract', 'Normal']\n",
        "values = [num_cataract, num_normal]\n",
        "\n",
        "plt.bar(labels, values)\n",
        "plt.xlabel('Kelas')\n",
        "plt.ylabel('Jumlah')\n",
        "plt.title('Jumlah Data Setiap Kelas')\n",
        "plt.show()"
      ]
    },
    {
      "cell_type": "markdown",
      "metadata": {
        "id": "ygP4fcUDR4yz"
      },
      "source": [
        "# Menggabungkan dataset"
      ]
    },
    {
      "cell_type": "code",
      "execution_count": null,
      "metadata": {
        "id": "YCav0ysHR6Bo"
      },
      "outputs": [],
      "source": [
        "dataset_dir = os.path.join(base_dir, 'dataset')\n",
        "train_dir = os.path.join(base_dir, 'latih')\n",
        "test_dir = os.path.join(base_dir, 'test')\n",
        "validation_dir = os.path.join(base_dir, 'validasi')"
      ]
    },
    {
      "cell_type": "markdown",
      "metadata": {
        "id": "HKKPoQAz2Xat"
      },
      "source": [
        "# Split Dataset"
      ]
    },
    {
      "cell_type": "code",
      "execution_count": null,
      "metadata": {
        "id": "hYXR6oMr4TqV",
        "colab": {
          "base_uri": "https://localhost:8080/",
          "height": 472
        },
        "outputId": "0a8de553-6980-4bd7-fab0-091fc24a9f77"
      },
      "outputs": [
        {
          "output_type": "display_data",
          "data": {
            "text/plain": [
              "<Figure size 640x480 with 1 Axes>"
            ],
            "image/png": "[encoded data removed]"
          },
          "metadata": {}
        }
      ],
      "source": [
        "image_paths = []\n",
        "labels = []\n",
        "for label, label_dir in enumerate([cataract_dir, normal_dir]):\n",
        "    for filename in os.listdir(label_dir):\n",
        "        image_paths.append(os.path.join(label_dir, filename))\n",
        "        labels.append(label)\n",
        "\n",
        "train_val_paths, test_paths, train_val_labels, test_labels = train_test_split(\n",
        "    image_paths, labels, test_size=0.2, random_state=42, stratify=labels)\n",
        "\n",
        "num_train_val = len(train_val_paths)\n",
        "num_test = len(test_paths)\n",
        "\n",
        "# Menampilkan diagram jumlah split\n",
        "labels = ['Train/Validation', 'Test']\n",
        "values = [num_train_val, num_test]\n",
        "plt.bar(labels, values)\n",
        "plt.xlabel('Split')\n",
        "plt.ylabel('Jumlah')\n",
        "plt.title('Jumlah Hasil Split')\n",
        "plt.show()\n",
        "\n",
        "def my_metrics(y_true, y_pred):\n",
        "    accuracy = accuracy_score(y_true, y_pred)\n",
        "    precision = precision_score(y_true, y_pred, average='weighted', zero_division=0)\n",
        "    f1_Score = f1_score(y_true, y_pred, average='weighted', zero_division=0)\n",
        "    print(\"Accuracy  : {}\".format(accuracy))\n",
        "    print(\"Precision : {}\".format(precision))\n",
        "    print(\"f1Score : {}\".format(f1_Score))\n",
        "    cm = confusion_matrix(y_true, y_pred)\n",
        "    print(cm)\n",
        "    return accuracy, precision, f1_Score"
      ]
    },
    {
      "cell_type": "markdown",
      "metadata": {
        "id": "ITR2mvNo5zme"
      },
      "source": [
        "# Pembuatan Model"
      ]
    },
    {
      "cell_type": "code",
      "execution_count": null,
      "metadata": {
        "id": "tHnhJtLKakh-"
      },
      "outputs": [],
      "source": [
        "model = tf.keras.models.Sequential([\n",
        "        tf.keras.layers.Conv2D(32, (3,3), activation='relu', input_shape=(150,150,3)),\n",
        "        tf.keras.layers.MaxPooling2D(2,2),\n",
        "        tf.keras.layers.Dropout(0.2),\n",
        "        tf.keras.layers.Conv2D(64, (3,3), activation='relu'),\n",
        "        tf.keras.layers.MaxPooling2D(2,2),\n",
        "        tf.keras.layers.Dropout(0.2),\n",
        "        tf.keras.layers.Conv2D(128, (3,3), activation='relu'),\n",
        "        tf.keras.layers.MaxPooling2D(2,2),\n",
        "        tf.keras.layers.Dropout(0.2),\n",
        "        tf.keras.layers.Conv2D(512, (3,3), activation='relu'),\n",
        "        tf.keras.layers.MaxPooling2D(2,2),\n",
        "        tf.keras.layers.Dropout(0.2),\n",
        "        tf.keras.layers.Flatten(),\n",
        "        tf.keras.layers.Dense(512, activation='relu'),\n",
        "        tf.keras.layers.Dropout(0.2),\n",
        "        tf.keras.layers.Dense(2, activation='softmax'),\n",
        "])"
      ]
    },
    {
      "cell_type": "markdown",
      "metadata": {
        "id": "Z9Ro86ildHVf"
      },
      "source": [
        "# Compile"
      ]
    },
    {
      "cell_type": "code",
      "execution_count": null,
      "metadata": {
        "colab": {
          "base_uri": "https://localhost:8080/"
        },
        "id": "Y9lj5cJtdIju",
        "outputId": "8d704082-7fa3-4df0-92e9-157e0c1c43b0"
      },
      "outputs": [
        {
          "output_type": "stream",
          "name": "stdout",
          "text": [
            "Model: \"sequential\"\n",
            "_________________________________________________________________\n",
            " Layer (type)                Output Shape              Param #   \n",
            "=================================================================\n",
            " conv2d (Conv2D)             (None, 148, 148, 32)      896       \n",
            "                                                                 \n",
            " max_pooling2d (MaxPooling2D  (None, 74, 74, 32)       0         \n",
            " )                                                               \n",
            "                                                                 \n",
            " dropout (Dropout)           (None, 74, 74, 32)        0         \n",
            "                                                                 \n",
            " conv2d_1 (Conv2D)           (None, 72, 72, 64)        18496     \n",
            "                                                                 \n",
            " max_pooling2d_1 (MaxPooling  (None, 36, 36, 64)       0         \n",
            " 2D)                                                             \n",
            "                                                                 \n",
            " dropout_1 (Dropout)         (None, 36, 36, 64)        0         \n",
            "                                                                 \n",
            " conv2d_2 (Conv2D)           (None, 34, 34, 128)       73856     \n",
            "                                                                 \n",
            " max_pooling2d_2 (MaxPooling  (None, 17, 17, 128)      0         \n",
            " 2D)                                                             \n",
            "                                                                 \n",
            " dropout_2 (Dropout)         (None, 17, 17, 128)       0         \n",
            "                                                                 \n",
            " conv2d_3 (Conv2D)           (None, 15, 15, 512)       590336    \n",
            "                                                                 \n",
            " max_pooling2d_3 (MaxPooling  (None, 7, 7, 512)        0         \n",
            " 2D)                                                             \n",
            "                                                                 \n",
            " dropout_3 (Dropout)         (None, 7, 7, 512)         0         \n",
            "                                                                 \n",
            " flatten (Flatten)           (None, 25088)             0         \n",
            "                                                                 \n",
            " dense (Dense)               (None, 512)               12845568  \n",
            "                                                                 \n",
            " dropout_4 (Dropout)         (None, 512)               0         \n",
            "                                                                 \n",
            " dense_1 (Dense)             (None, 2)                 1026      \n",
            "                                                                 \n",
            "=================================================================\n",
            "Total params: 13,530,178\n",
            "Trainable params: 13,530,178\n",
            "Non-trainable params: 0\n",
            "_________________________________________________________________\n"
          ]
        }
      ],
      "source": [
        "learning_rate = 0.001\n",
        "model.compile(loss='categorical_crossentropy',\n",
        "        optimizer=tf.optimizers.Adam(learning_rate=learning_rate),\n",
        "        metrics=['accuracy'])\n",
        "model.summary()"
      ]
    },
    {
      "cell_type": "markdown",
      "metadata": {
        "id": "4vSSH7OBQTf2"
      },
      "source": [
        "# Training Model"
      ]
    },
    {
      "cell_type": "code",
      "execution_count": null,
      "metadata": {
        "id": "Uj5CXnoEXXf4"
      },
      "outputs": [],
      "source": [
        "class_labels = [cataract_dir, normal_dir]\n",
        "skf = StratifiedKFold(n_splits=2, shuffle=True)\n",
        "\n",
        "fold_num = 0\n",
        "test_losses = []\n",
        "test_accuracies = []\n",
        "confusion_matrices = []\n",
        "\n",
        "for train_index, val_index in skf.split(train_val_paths, train_val_labels):\n",
        "    fold_num += 1\n",
        "    print(\"Results for fold : \", fold_num)\n",
        "    X_train, X_val = np.array(train_val_paths)[train_index], np.array(train_val_paths)[val_index]\n",
        "    Y_train, Y_val = np.array(train_val_labels)[train_index], np.array(train_val_labels)[val_index]\n",
        "    \n",
        "    for each_index in range(len(X_val)):\n",
        "        class_label = ''\n",
        "        for i in range(len(class_labels)):\n",
        "            if Y_val[each_index] == str(i):\n",
        "                class_label = class_labels[i]\n",
        "        shutil.move(\n",
        "            os.path.join(base_dir, 'latih', class_label, X_val[each_index]),\n",
        "            os.path.join(base_dir, 'validasi', class_label, X_val[each_index])\n",
        "        )\n",
        "\n",
        "    train_datagen = ImageDataGenerator(\n",
        "        rescale=1./225,\n",
        "        brightness_range=[0.5, 1.0],\n",
        "        horizontal_flip=True,\n",
        "        vertical_flip=True,\n",
        "        shear_range=0.2,\n",
        "        height_shift_range=0.1,\n",
        "        width_shift_range=0.1,\n",
        "        rotation_range=45,\n",
        "        fill_mode='wrap',\n",
        "    )\n",
        "\n",
        "    train_val_generators = []\n",
        "    for train_indices, val_indices in skf.split(train_val_paths, train_val_labels):\n",
        "        train_paths = [train_val_paths[i] for i in train_indices]\n",
        "        val_paths = [train_val_paths[i] for i in val_indices]\n",
        "        train_labels = [train_val_labels[i] for i in train_indices]\n",
        "        val_labels = [train_val_labels[i] for i in val_indices]\n",
        "        train_labels = [str(label) for label in train_labels]\n",
        "        val_labels = [str(label) for label in val_labels]\n",
        "        \n",
        "        train_generator = train_datagen.flow_from_dataframe(\n",
        "            pd.DataFrame({\"image_path\": train_paths, \"label\": train_labels}),\n",
        "            x_col=\"image_path\",\n",
        "            y_col=\"label\",\n",
        "            target_size=(100, 150),\n",
        "            batch_size=32,\n",
        "            class_mode=\"categorical\",\n",
        "            subset=\"training\"\n",
        "        )\n",
        "        \n",
        "        val_generator = train_datagen.flow_from_dataframe(\n",
        "            pd.DataFrame({\"image_path\": val_paths, \"label\": val_labels}),\n",
        "            x_col=\"image_path\",\n",
        "            y_col=\"label\",\n",
        "            target_size=(100, 150),\n",
        "            batch_size=32,\n",
        "            class_mode=\"categorical\",\n",
        "        )\n",
        "        \n",
        "        train_val_generators.append((train_generator, val_generator))\n",
        "        # Training Model\n",
        "        history = model.fit(\n",
        "            train_generator,\n",
        "            epochs=15,\n",
        "            steps_per_epoch=len(train_generator),\n",
        "            validation_data=val_generator,\n",
        "            validation_steps=len(val_generator),\n",
        "            verbose=2\n",
        "        )\n",
        "    predictions = model.predict(val_generator, verbose=1)\n",
        "    y_predictions = np.argmax(predictions, axis=1)\n",
        "    true_classes = val_generator.classes\n",
        "    \n",
        "    # evaluate validation performance\n",
        "    print(\"***Performance on Validation data***\")\n",
        "    val_acc, val_prec, val_fScore = my_metrics(true_classes, y_predictions)"
      ]
    },
    {
      "cell_type": "markdown",
      "metadata": {
        "id": "0qLOp3MeQxy9"
      },
      "source": [
        "# Report Hasil Training"
      ]
    },
    {
      "cell_type": "code",
      "execution_count": null,
      "metadata": {
        "id": "5DcmlVxZQ2_T",
        "colab": {
          "base_uri": "https://localhost:8080/"
        },
        "outputId": "d0da1629-fc62-4484-987a-11ef650116b4"
      },
      "outputs": [
        {
          "output_type": "stream",
          "name": "stdout",
          "text": [
            "*** Classification Report ***\n",
            "              precision    recall  f1-score   support\n",
            "\n",
            "    cataract       0.43      0.38      0.40        82\n",
            "      normal       0.46      0.51      0.48        84\n",
            "\n",
            "    accuracy                           0.45       166\n",
            "   macro avg       0.44      0.44      0.44       166\n",
            "weighted avg       0.44      0.45      0.44       166\n",
            "\n"
          ]
        }
      ],
      "source": [
        "print(\"*** Classification Report ***\")\n",
        "clr = classification_report(true_classes, y_predictions, target_names=['cataract', 'normal'])\n",
        "print(clr)"
      ]
    },
    {
      "cell_type": "markdown",
      "metadata": {
        "id": "6HdmhXCj3ROr"
      },
      "source": [
        "#Testing Model"
      ]
    },
    {
      "cell_type": "code",
      "execution_count": null,
      "metadata": {
        "id": "2lrsr_093Xau",
        "colab": {
          "base_uri": "https://localhost:8080/"
        },
        "outputId": "fd0ac834-e060-46b0-efb2-07b9c27dc9be"
      },
      "outputs": [
        {
          "output_type": "stream",
          "name": "stdout",
          "text": [
            "Results for fold :  1\n",
            "Found 167 validated image filenames belonging to 2 classes.\n",
            "6/6 [==============================] - 3s 528ms/step - loss: 0.4056 - accuracy: 0.8263\n",
            "6/6 [==============================] - 5s 796ms/step\n",
            "*** Performance on Validation data ***\n",
            "Accuracy  : 0.8263473053892215\n",
            "Precision : 0.830074811144929\n",
            "f1Score : 0.8257848978713198\n",
            "[[64 19]\n",
            " [10 74]]\n",
            "Results for fold :  2\n",
            "Found 166 validated image filenames belonging to 2 classes.\n",
            "6/6 [==============================] - 3s 526ms/step - loss: 0.3732 - accuracy: 0.8373\n",
            "6/6 [==============================] - 3s 518ms/step\n",
            "*** Performance on Validation data ***\n",
            "Accuracy  : 0.8373493975903614\n",
            "Precision : 0.8385780885780886\n",
            "f1Score : 0.8372016999019287\n",
            "[[67 16]\n",
            " [11 72]]\n",
            "Results for fold :  3\n",
            "Found 166 validated image filenames belonging to 2 classes.\n",
            "6/6 [==============================] - 4s 646ms/step - loss: 0.3676 - accuracy: 0.8373\n",
            "6/6 [==============================] - 3s 515ms/step\n",
            "*** Performance on Validation data ***\n",
            "Accuracy  : 0.8373493975903614\n",
            "Precision : 0.8377906976744186\n",
            "f1Score : 0.8372962573056958\n",
            "[[68 15]\n",
            " [12 71]]\n",
            "Results for fold :  4\n",
            "Found 166 validated image filenames belonging to 2 classes.\n",
            "6/6 [==============================] - 3s 562ms/step - loss: 0.3335 - accuracy: 0.8614\n",
            "6/6 [==============================] - 3s 532ms/step\n",
            "*** Performance on Validation data ***\n",
            "Accuracy  : 0.8614457831325302\n",
            "Precision : 0.8614781566352555\n",
            "f1Score : 0.8614306939158967\n",
            "[[70 12]\n",
            " [11 73]]\n",
            "Results for fold :  5\n",
            "Found 166 validated image filenames belonging to 2 classes.\n",
            "6/6 [==============================] - 3s 527ms/step - loss: 0.4268 - accuracy: 0.7651\n",
            "6/6 [==============================] - 4s 719ms/step\n",
            "*** Performance on Validation data ***\n",
            "Accuracy  : 0.7650602409638554\n",
            "Precision : 0.7679112384136634\n",
            "f1Score : 0.7642124539711608\n",
            "[[58 24]\n",
            " [15 69]]\n"
          ]
        }
      ],
      "source": [
        "class_labels = [cataract_dir, normal_dir]\n",
        "skf = StratifiedKFold(n_splits=5, shuffle=True)\n",
        "\n",
        "fold_num = 0\n",
        "test_losses = []\n",
        "test_accuracies = []\n",
        "confusion_matrices = []\n",
        "\n",
        "for train_index, test_index in skf.split(train_val_paths, train_val_labels):\n",
        "    fold_num += 1\n",
        "    print(\"Results for fold : \", fold_num)\n",
        "    X_train, X_test = np.array(train_val_paths)[train_index], np.array(train_val_paths)[test_index]\n",
        "    Y_train, Y_test = np.array(train_val_labels)[train_index], np.array(train_val_labels)[test_index]\n",
        "\n",
        "    for each_index in range(len(X_test)):\n",
        "        class_label = ''\n",
        "        for i in range(len(class_labels)):\n",
        "            if Y_test[each_index] == str(i):\n",
        "                class_label = class_labels[i]\n",
        "        shutil.move(\n",
        "            os.path.join(base_dir, 'latih', class_label, X_test[each_index]),\n",
        "            os.path.join(base_dir, 'test', class_label, X_test[each_index])\n",
        "        )\n",
        "\n",
        "    test_datagen = ImageDataGenerator(rescale=1./225)\n",
        "    test_labels = [str(label) for label in Y_test]\n",
        "\n",
        "    test_generator = test_datagen.flow_from_dataframe(\n",
        "        pd.DataFrame({'image_path': X_test, 'label': test_labels}),\n",
        "        x_col='image_path',\n",
        "        y_col='label',\n",
        "        target_size=(100, 150),\n",
        "        batch_size=32,\n",
        "        class_mode='categorical',\n",
        "        shuffle=False\n",
        "    )\n",
        "\n",
        "    test_loss, test_acc = model.evaluate(\n",
        "        test_generator,\n",
        "        steps=len(test_generator),\n",
        "        verbose=1\n",
        "    )\n",
        "\n",
        "    test_losses.append(test_loss)\n",
        "    test_accuracies.append(test_acc)\n",
        "\n",
        "    predictions = model.predict(test_generator, verbose=1)\n",
        "    y_predictions = np.argmax(predictions, axis=1)\n",
        "    true_classes = test_generator.classes\n",
        "\n",
        "    # evaluate validation performance\n",
        "    print(\"*** Performance on Validation data ***\")\n",
        "    val_acc, val_prec, val_fScore = my_metrics(true_classes, y_predictions)\n",
        "    confusion_matrices.append(confusion_matrix(true_classes, y_predictions))"
      ]
    },
    {
      "cell_type": "markdown",
      "metadata": {
        "id": "yyZV3cDTaRxx"
      },
      "source": [
        "# Report Hasil Testing"
      ]
    },
    {
      "cell_type": "code",
      "execution_count": null,
      "metadata": {
        "id": "K0ReTL1yKh0D",
        "colab": {
          "base_uri": "https://localhost:8080/"
        },
        "outputId": "8101a98b-358e-49ba-b953-1f58f51fc6d3"
      },
      "outputs": [
        {
          "output_type": "stream",
          "name": "stdout",
          "text": [
            "*** Classification Report ***\n",
            "              precision    recall  f1-score   support\n",
            "\n",
            "    cataract       0.79      0.71      0.75        82\n",
            "      normal       0.74      0.82      0.78        84\n",
            "\n",
            "    accuracy                           0.77       166\n",
            "   macro avg       0.77      0.76      0.76       166\n",
            "weighted avg       0.77      0.77      0.76       166\n",
            "\n"
          ]
        }
      ],
      "source": [
        "print(\"*** Classification Report ***\")\n",
        "clr = classification_report(true_classes, y_predictions, target_names=['cataract', 'normal'])\n",
        "print(clr)"
      ]
    }
  ],
  "metadata": {
    "colab": {
      "provenance": [],
      "gpuType": "T4",
      "mount_file_id": "1D4g9J-3n8r0kHDmJQqF3iHBfXu4O-_Wi",
      "authorship_tag": "ABX9TyMHFyuB/GUrTnEUw8pLgecY",
      "include_colab_link": true
    },
    "kernelspec": {
      "display_name": "Python 3",
      "name": "python3"
    },
    "language_info": {
      "name": "python"
    }
  },
  "nbformat": 4,
  "nbformat_minor": 0
}